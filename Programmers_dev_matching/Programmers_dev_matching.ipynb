{
 "cells": [
  {
   "cell_type": "code",
   "execution_count": null,
   "id": "increased-puppy",
   "metadata": {
    "id": "5Pu1USdoTlrL"
   },
   "outputs": [],
   "source": [
    "#!pip install opencv-python-headless\n",
    "#!pip install efficientnet_pytorch\n",
    "#!pip install adamp"
   ]
  },
  {
   "cell_type": "code",
   "execution_count": null,
   "id": "second-compensation",
   "metadata": {
    "colab": {
     "base_uri": "https://localhost:8080/"
    },
    "executionInfo": {
     "elapsed": 7,
     "status": "ok",
     "timestamp": 1621752973206,
     "user": {
      "displayName": "오세민",
      "photoUrl": "",
      "userId": "15789962604001692355"
     },
     "user_tz": -540
    },
    "id": "XwvI6o7nUL2d",
    "outputId": "91420135-4fe5-4682-b2c5-0f8872623501"
   },
   "outputs": [
    {
     "name": "stdout",
     "output_type": "stream",
     "text": [
      "Drive already mounted at /content/drive; to attempt to forcibly remount, call drive.mount(\"/content/drive\", force_remount=True).\n"
     ]
    }
   ],
   "source": [
    "from google.colab import drive\n",
    "drive.mount('/content/drive')"
   ]
  },
  {
   "cell_type": "code",
   "execution_count": null,
   "id": "biological-brazilian",
   "metadata": {
    "id": "focused-transsexual"
   },
   "outputs": [],
   "source": [
    "import pandas as pd\n",
    "import numpy as np\n",
    "\n",
    "import torch\n",
    "import torch.nn as nn\n",
    "import torch.functional as F\n",
    "from torch.utils.data import Dataset, DataLoader\n",
    "from torchvision import transforms\n",
    "from torch import Tensor\n",
    "\n",
    "import os, sys\n",
    "import matplotlib.pyplot as plt\n",
    "%matplotlib inline\n",
    "import matplotlib.image as mpimg\n",
    "#from tabulate import tabulate\n",
    "import seaborn as sns\n",
    "\n",
    "\n",
    "import skimage.io\n",
    "from skimage.transform import resize\n",
    "from tqdm import tqdm\n",
    "import PIL\n",
    "from PIL import Image, ImageOps\n",
    "import cv2\n",
    "import copy\n",
    "import multiprocessing\n",
    "\n",
    "\n",
    "from sklearn.model_selection import StratifiedKFold\n",
    "from sklearn.metrics import f1_score, accuracy_score\n",
    "\n",
    "\n",
    "from sklearn.utils import class_weight, shuffle\n",
    "\n",
    "import warnings\n",
    "warnings.filterwarnings(\"ignore\")\n",
    "\n",
    "\n",
    "import efficientnet_pytorch\n",
    "from tqdm import tqdm\n",
    "from adamp import AdamP"
   ]
  },
  {
   "cell_type": "markdown",
   "id": "under-latino",
   "metadata": {},
   "source": [
    "### 0. Preprocess\n",
    "\n",
    "* 학습데이터가 각각의 폴더안에 들어있기때문에 쉽게 불러오기 위해 경로를 저장해뒀습니다.\n",
    "\n",
    "* 다른 파일에서 진행했기때문에 전처리 완료된 파일을 train.csv, test.csv 로 저장했습니다."
   ]
  },
  {
   "cell_type": "code",
   "execution_count": null,
   "id": "separate-lottery",
   "metadata": {},
   "outputs": [],
   "source": [
    "import os\n",
    "file_list = os.listdir('/content/drive/MyDrive/programmers/data/train/train')\n",
    "\n",
    "print(len(file_list))\n",
    "print(file_list)\n",
    "file_list"
   ]
  },
  {
   "cell_type": "code",
   "execution_count": null,
   "id": "aggressive-groove",
   "metadata": {},
   "outputs": [],
   "source": [
    "import glob\n",
    "import pandas as pd\n",
    "train_list = [file for file in glob.iglob('/content/drive/MyDrive/programmers/data/train/train/**/*.jpg')]\n",
    "train_list = pd.DataFrame(train_list,columns = ['file_path'])\n",
    "train_list['label'] = train_list['file_path'].map(lambda x: x.split('/')[-2])\n",
    "train_list['id'] = train_list['file_path'].map(lambda x: '/'.join(x.split('/')[-2:]).split('.')[0])\n",
    "train_list.drop('file_path',axis = 1,inplace = True)\n",
    "train_list.to_csv('/content/drive/MyDrive/programmers/data/train.csv',index = False)"
   ]
  },
  {
   "cell_type": "code",
   "execution_count": null,
   "id": "fiscal-injection",
   "metadata": {},
   "outputs": [],
   "source": [
    "test_list = [file for file in glob.iglob('/content/drive/MyDrive/programmers/data/test/test/**/*.jpg')]\n",
    "test_list = pd.DataFrame(test_list,columns = ['file_path'])\n",
    "test_list['id'] = test_list['file_path'].map(lambda x: '/'.join(x.split('/')[-2:]).split('.')[0])\n",
    "test_list.drop('file_path',axis = 1,inplace = True)\n",
    "test_list.to_csv('/content/drive/MyDrive/programmers/data/test.csv',index = False)"
   ]
  },
  {
   "cell_type": "markdown",
   "id": "african-world",
   "metadata": {
    "id": "athletic-profession"
   },
   "source": [
    "### 1.train data\n",
    "\n",
    "데이터 분포 파악 및 라벨 인코딩\n",
    "\n",
    "* 이미지 분류 테스크를 수행하기 위해 라벨을 살펴봤습니다.\n",
    "\n",
    "* horse, guitar 등이 조금 부족하지만 데이터의 수가 너무 많이 부족하진 않다고 판단해 그대로 진행했습니다."
   ]
  },
  {
   "cell_type": "code",
   "execution_count": null,
   "id": "formed-placement",
   "metadata": {
    "id": "liquid-marking",
    "tags": []
   },
   "outputs": [],
   "source": [
    "train = pd.read_csv('/content/drive/MyDrive/programmers/data/train.csv')\n",
    "test = pd.read_csv('/content/drive/MyDrive/programmers/data/test.csv')\n",
    "train_dir = '/content/drive/MyDrive/programmers/data/train/train'\n",
    "test_dir = '/content/drive/MyDrive/programmers/data/test/test'"
   ]
  },
  {
   "cell_type": "code",
   "execution_count": null,
   "id": "violent-florida",
   "metadata": {
    "colab": {
     "base_uri": "https://localhost:8080/",
     "height": 282
    },
    "executionInfo": {
     "elapsed": 18,
     "status": "ok",
     "timestamp": 1621752973742,
     "user": {
      "displayName": "오세민",
      "photoUrl": "",
      "userId": "15789962604001692355"
     },
     "user_tz": -540
    },
    "id": "otid9svOV4XD",
    "outputId": "769db37a-db1d-4d7c-8ab3-9bc395739a8d"
   },
   "outputs": [
    {
     "data": {
      "text/plain": [
       "<matplotlib.axes._subplots.AxesSubplot at 0x7f66e8568250>"
      ]
     },
     "execution_count": 5,
     "metadata": {
      "tags": []
     },
     "output_type": "execute_result"
    },
    {
     "data": {
      "image/png": "[encoded data removed]",
      "text/plain": [
       "<Figure size 432x288 with 1 Axes>"
      ]
     },
     "metadata": {
      "needs_background": "light",
      "tags": []
     },
     "output_type": "display_data"
    }
   ],
   "source": [
    "train['label'].value_counts().sort_index(0).plot.barh()"
   ]
  },
  {
   "cell_type": "code",
   "execution_count": null,
   "id": "sound-celebrity",
   "metadata": {
    "id": "intense-sympathy"
   },
   "outputs": [],
   "source": [
    "def name2label(x):\n",
    "    if x == 'dog':\n",
    "        return 0\n",
    "    elif x =='elephant':\n",
    "        return 1\n",
    "    elif x == 'giraffe':\n",
    "        return 2\n",
    "    elif x == 'guitar':\n",
    "        return 3\n",
    "    elif x == 'horse':\n",
    "        return 4\n",
    "    elif x == 'house':\n",
    "        return 5\n",
    "    elif x == 'person':\n",
    "        return 6"
   ]
  },
  {
   "cell_type": "code",
   "execution_count": null,
   "id": "optical-steps",
   "metadata": {
    "id": "iw2gKBaBUUwc"
   },
   "outputs": [],
   "source": [
    "train.label = train.label.map(lambda x: name2label(x))"
   ]
  },
  {
   "cell_type": "code",
   "execution_count": null,
   "id": "usual-characteristic",
   "metadata": {
    "id": "wzjDBHO1WU0o"
   },
   "outputs": [],
   "source": [
    "train['file_path'] = train.id.map(lambda x: train_dir+'/'+ x +'.jpg')"
   ]
  },
  {
   "cell_type": "code",
   "execution_count": null,
   "id": "neural-hollywood",
   "metadata": {
    "id": "WPBbZ1sOWgxA"
   },
   "outputs": [],
   "source": [
    "test['file_path'] = test.id.map(lambda x: test_dir+'/'+ x +'.jpg')"
   ]
  },
  {
   "cell_type": "code",
   "execution_count": null,
   "id": "changing-plain",
   "metadata": {
    "colab": {
     "base_uri": "https://localhost:8080/",
     "height": 196
    },
    "executionInfo": {
     "elapsed": 43,
     "status": "ok",
     "timestamp": 1621752974878,
     "user": {
      "displayName": "오세민",
      "photoUrl": "",
      "userId": "15789962604001692355"
     },
     "user_tz": -540
    },
    "id": "F1WWXl0jUtEq",
    "outputId": "a8fdfd35-c90a-4230-905e-0ee3238d54e7"
   },
   "outputs": [
    {
     "data": {
      "text/html": [
       "<div>\n",
       "<style scoped>\n",
       "    .dataframe tbody tr th:only-of-type {\n",
       "        vertical-align: middle;\n",
       "    }\n",
       "\n",
       "    .dataframe tbody tr th {\n",
       "        vertical-align: top;\n",
       "    }\n",
       "\n",
       "    .dataframe thead th {\n",
       "        text-align: right;\n",
       "    }\n",
       "</style>\n",
       "<table border=\"1\" class=\"dataframe\">\n",
       "  <thead>\n",
       "    <tr style=\"text-align: right;\">\n",
       "      <th></th>\n",
       "      <th>label</th>\n",
       "      <th>id</th>\n",
       "      <th>file_path</th>\n",
       "    </tr>\n",
       "  </thead>\n",
       "  <tbody>\n",
       "    <tr>\n",
       "      <th>0</th>\n",
       "      <td>5</td>\n",
       "      <td>house/pic_248</td>\n",
       "      <td>/content/drive/MyDrive/programmers/data/train/...</td>\n",
       "    </tr>\n",
       "    <tr>\n",
       "      <th>1</th>\n",
       "      <td>5</td>\n",
       "      <td>house/pic_247</td>\n",
       "      <td>/content/drive/MyDrive/programmers/data/train/...</td>\n",
       "    </tr>\n",
       "    <tr>\n",
       "      <th>2</th>\n",
       "      <td>5</td>\n",
       "      <td>house/pic_245</td>\n",
       "      <td>/content/drive/MyDrive/programmers/data/train/...</td>\n",
       "    </tr>\n",
       "    <tr>\n",
       "      <th>3</th>\n",
       "      <td>5</td>\n",
       "      <td>house/pic_243</td>\n",
       "      <td>/content/drive/MyDrive/programmers/data/train/...</td>\n",
       "    </tr>\n",
       "    <tr>\n",
       "      <th>4</th>\n",
       "      <td>5</td>\n",
       "      <td>house/pic_241</td>\n",
       "      <td>/content/drive/MyDrive/programmers/data/train/...</td>\n",
       "    </tr>\n",
       "  </tbody>\n",
       "</table>\n",
       "</div>"
      ],
      "text/plain": [
       "   label             id                                          file_path\n",
       "0      5  house/pic_248  /content/drive/MyDrive/programmers/data/train/...\n",
       "1      5  house/pic_247  /content/drive/MyDrive/programmers/data/train/...\n",
       "2      5  house/pic_245  /content/drive/MyDrive/programmers/data/train/...\n",
       "3      5  house/pic_243  /content/drive/MyDrive/programmers/data/train/...\n",
       "4      5  house/pic_241  /content/drive/MyDrive/programmers/data/train/..."
      ]
     },
     "execution_count": 12,
     "metadata": {
      "tags": []
     },
     "output_type": "execute_result"
    }
   ],
   "source": [
    "train.head()"
   ]
  },
  {
   "cell_type": "code",
   "execution_count": null,
   "id": "immune-carry",
   "metadata": {
    "colab": {
     "base_uri": "https://localhost:8080/"
    },
    "executionInfo": {
     "elapsed": 37,
     "status": "ok",
     "timestamp": 1621752974880,
     "user": {
      "displayName": "오세민",
      "photoUrl": "",
      "userId": "15789962604001692355"
     },
     "user_tz": -540
    },
    "id": "referenced-conditions",
    "outputId": "9cf7e4fc-431d-4306-ddf3-d9b09a3aa9b7"
   },
   "outputs": [
    {
     "data": {
      "text/plain": [
       "2    340\n",
       "1    340\n",
       "0    340\n",
       "4    339\n",
       "3    339\n",
       "Name: fold, dtype: int64"
      ]
     },
     "execution_count": 13,
     "metadata": {
      "tags": []
     },
     "output_type": "execute_result"
    }
   ],
   "source": [
    "x = train.id\n",
    "y = train.label\n",
    "\n",
    "skf = StratifiedKFold(n_splits = 5, random_state = 42,shuffle = True)\n",
    "train['fold'] = -1\n",
    "for i,(trn_idx,vld_idx) in enumerate(skf.split(x,y)):\n",
    "    train.loc[vld_idx,'fold'] = i\n",
    "train['fold'].value_counts()"
   ]
  },
  {
   "cell_type": "markdown",
   "id": "unlike-nerve",
   "metadata": {
    "id": "valid-gates"
   },
   "source": [
    "### 3. Dataset\n",
    "\n",
    "데이터 형태 파악"
   ]
  },
  {
   "cell_type": "code",
   "execution_count": null,
   "id": "pediatric-vanilla",
   "metadata": {
    "colab": {
     "base_uri": "https://localhost:8080/",
     "height": 244
    },
    "executionInfo": {
     "elapsed": 25,
     "status": "ok",
     "timestamp": 1621752974882,
     "user": {
      "displayName": "오세민",
      "photoUrl": "",
      "userId": "15789962604001692355"
     },
     "user_tz": -540
    },
    "id": "native-liberal",
    "outputId": "6df4f69a-0b5b-4495-c3ae-9edc2270e0fc"
   },
   "outputs": [
    {
     "data": {
      "image/png": "[encoded data removed]",
      "text/plain": [
       "<PIL.JpegImagePlugin.JpegImageFile image mode=RGB size=227x227 at 0x7F66E7D52F90>"
      ]
     },
     "execution_count": 15,
     "metadata": {
      "tags": []
     },
     "output_type": "execute_result"
    }
   ],
   "source": [
    "num = np.random.randint(len(train))\n",
    "a = Image.open(train_dir+'/'+train.loc[num,'id']+'.jpg')\n",
    "a"
   ]
  },
  {
   "cell_type": "code",
   "execution_count": null,
   "id": "sorted-norway",
   "metadata": {
    "colab": {
     "base_uri": "https://localhost:8080/"
    },
    "executionInfo": {
     "elapsed": 23,
     "status": "ok",
     "timestamp": 1621752974883,
     "user": {
      "displayName": "오세민",
      "photoUrl": "",
      "userId": "15789962604001692355"
     },
     "user_tz": -540
    },
    "id": "yellow-sherman",
    "outputId": "c3d5e539-fdfd-492d-ead1-b416a5001bcf"
   },
   "outputs": [
    {
     "data": {
      "text/plain": [
       "(227, 227, 3)"
      ]
     },
     "execution_count": 16,
     "metadata": {
      "tags": []
     },
     "output_type": "execute_result"
    }
   ],
   "source": [
    "a_np = np.array(a)\n",
    "a_np.shape"
   ]
  },
  {
   "cell_type": "markdown",
   "id": "elder-vacuum",
   "metadata": {
    "id": "original-outreach"
   },
   "source": [
    "### 4. Image Dataset 생성\n",
    "\n",
    "모델이 더 다양한 데이터를 학습할 수 있게 Augmentation을 적용해줬습니다."
   ]
  },
  {
   "cell_type": "code",
   "execution_count": null,
   "id": "designing-luxembourg",
   "metadata": {
    "id": "recent-headset"
   },
   "outputs": [],
   "source": [
    "class ImageDataset(torch.utils.data.Dataset):\n",
    "    def __init__(self, dataframe: pd.DataFrame,mode):\n",
    "        self.df = dataframe\n",
    "        self.file_paths = dataframe['file_path'].values\n",
    "        self.mode = mode\n",
    "        transforms_list = []\n",
    "        \n",
    "        if self.mode =='train':\n",
    "            transforms_list = [\n",
    "                transforms.Resize((224,224)),\n",
    "                transforms.RandomHorizontalFlip(),\n",
    "                transforms.RandomChoice([\n",
    "                    transforms.RandomResizedCrop(224),\n",
    "                    transforms.ColorJitter(0.2, 0.2, 0.2, 0.2),\n",
    "                    transforms.RandomAffine(degrees=15, translate=(0.2, 0.2),\n",
    "                                            scale=(0.8, 1.2), shear=15,\n",
    "                                            resample=Image.BILINEAR)\n",
    "                ]),\n",
    "                transforms.ToTensor(),\n",
    "                transforms.Normalize(mean=[0.485, 0.456, 0.406],\n",
    "                                      std=[0.229, 0.224, 0.225]),\n",
    "            ]\n",
    "\n",
    "        else:\n",
    "            transforms_list.extend([\n",
    "                # Keep this resize same as train\n",
    "                transforms.Resize((224,224)),\n",
    "                transforms.ToTensor(),\n",
    "                transforms.Normalize(mean=[0.485, 0.456, 0.406],\n",
    "                                      std=[0.229, 0.224, 0.225]),\n",
    "            ])\n",
    "        self.transforms = transforms.Compose(transforms_list)\n",
    "\n",
    "\n",
    "    def __len__(self):\n",
    "        return len(self.df)\n",
    "    \n",
    "    def __getitem__(self, index: int):\n",
    "        if self.mode =='inference':\n",
    "            image_id = self.df.iloc[index].id\n",
    "            image_path = self.file_paths[index]\n",
    "            image = Image.open(image_path)\n",
    "            image = self.transforms(image)\n",
    "\n",
    "        else:\n",
    "            image_id = self.df.iloc[index].id\n",
    "            image_path = self.file_paths[index]\n",
    "            image = Image.open(image_path)\n",
    "            image = self.transforms(image)\n",
    "            label = self.df.iloc[index].label\n",
    "\n",
    "        if self.mode =='inference':\n",
    "            return image\n",
    "        \n",
    "        else:\n",
    "            #label = self.df.iloc[index]['label']            \n",
    "            return image, label"
   ]
  },
  {
   "cell_type": "markdown",
   "id": "subsequent-concern",
   "metadata": {
    "id": "unavailable-commerce"
   },
   "source": [
    "### 5.training\n",
    "\n",
    "* 앙상블을 위해 각 fold 별로 데이터셋 생성\n",
    "\n",
    "* 앙상블 이유 : 학습 데이터가 2000개에 못 미치므로 validation을 위해 나눈 validation set을 학습하지 않는 것이 아깝다 생각했습니다.\n",
    "\n",
    "\n",
    "* 그래서 5-fold를 이용해 5번의 학습으로 데이터 셋을 골고루 학습할 수 있게 도왔습니다.\n",
    "\n",
    "\n",
    "\n",
    "* 모델 : Efficientnet-b3\n",
    "\n",
    "* 최적의 파라미터로 최대의 효율을 내는 Efficientnet을 모델로 썼습니다.\n",
    "\n",
    "* 또한, 모델의 pretrained 데이터 셋이 imagenet으로 다양한 class에 대한 분류를 학습했기 때문에 선택했습니다.\n"
   ]
  },
  {
   "cell_type": "code",
   "execution_count": null,
   "id": "accessible-heritage",
   "metadata": {
    "colab": {
     "base_uri": "https://localhost:8080/"
    },
    "executionInfo": {
     "elapsed": 3464301,
     "status": "ok",
     "timestamp": 1621756439166,
     "user": {
      "displayName": "오세민",
      "photoUrl": "",
      "userId": "15789962604001692355"
     },
     "user_tz": -540
    },
    "id": "institutional-nicholas",
    "outputId": "55ebd38a-bb95-459a-b3bb-1275bd90c023",
    "tags": []
   },
   "outputs": [
    {
     "name": "stdout",
     "output_type": "stream",
     "text": [
      "cuda\n",
      "Loaded pretrained weights for efficientnet-b3\n"
     ]
    },
    {
     "name": "stderr",
     "output_type": "stream",
     "text": [
      "\r",
      "  0%|          | 0/43 [00:00<?, ?it/s]"
     ]
    },
    {
     "name": "stdout",
     "output_type": "stream",
     "text": [
      "Epoch: 0\n"
     ]
    },
    {
     "name": "stderr",
     "output_type": "stream",
     "text": [
      "100%|██████████| 43/43 [00:22<00:00,  1.91it/s]\n",
      "100%|██████████| 11/11 [00:02<00:00,  4.88it/s]\n"
     ]
    },
    {
     "name": "stdout",
     "output_type": "stream",
     "text": [
      "val_f1 : 0.23837506471403458 val_acc : 0.25882352941176473 train_loss : 1.9607347859892734 valid_loss : 1.8880311250686646\n"
     ]
    },
    {
     "name": "stderr",
     "output_type": "stream",
     "text": [
      "\r",
      "  0%|          | 0/43 [00:00<?, ?it/s]"
     ]
    },
    {
     "name": "stdout",
     "output_type": "stream",
     "text": [
      "Epoch: 1\n"
     ]
    },
    {
     "name": "stderr",
     "output_type": "stream",
     "text": [
      "100%|██████████| 43/43 [00:22<00:00,  1.90it/s]\n",
      "100%|██████████| 11/11 [00:02<00:00,  4.90it/s]\n"
     ]
    },
    {
     "name": "stdout",
     "output_type": "stream",
     "text": [
      "val_f1 : 0.4310317165156121 val_acc : 0.45588235294117646 train_loss : 1.8888068864511889 valid_loss : 1.8049768209457397\n"
     ]
    },
    {
     "name": "stderr",
     "output_type": "stream",
     "text": [
      "\r",
      "  0%|          | 0/43 [00:00<?, ?it/s]"
     ]
    },
    {
     "name": "stdout",
     "output_type": "stream",
     "text": [
      "Epoch: 2\n"
     ]
    },
    {
     "name": "stderr",
     "output_type": "stream",
     "text": [
      "100%|██████████| 43/43 [00:22<00:00,  1.88it/s]\n",
      "100%|██████████| 11/11 [00:02<00:00,  4.93it/s]\n"
     ]
    },
    {
     "name": "stdout",
     "output_type": "stream",
     "text": [
      "val_f1 : 0.573280937574078 val_acc : 0.6 train_loss : 1.8077598560688108 valid_loss : 1.7221314907073975\n"
     ]
    },
    {
     "name": "stderr",
     "output_type": "stream",
     "text": [
      "\r",
      "  0%|          | 0/43 [00:00<?, ?it/s]"
     ]
    },
    {
     "name": "stdout",
     "output_type": "stream",
     "text": [
      "Epoch: 3\n"
     ]
    },
    {
     "name": "stderr",
     "output_type": "stream",
     "text": [
      "100%|██████████| 43/43 [00:22<00:00,  1.88it/s]\n",
      "100%|██████████| 11/11 [00:02<00:00,  4.90it/s]\n"
     ]
    },
    {
     "name": "stdout",
     "output_type": "stream",
     "text": [
      "val_f1 : 0.6497922559205495 val_acc : 0.6735294117647059 train_loss : 1.7313359060952829 valid_loss : 1.636510816487399\n"
     ]
    },
    {
     "name": "stderr",
     "output_type": "stream",
     "text": [
      "\r",
      "  0%|          | 0/43 [00:00<?, ?it/s]"
     ]
    },
    {
     "name": "stdout",
     "output_type": "stream",
     "text": [
      "Epoch: 4\n"
     ]
    },
    {
     "name": "stderr",
     "output_type": "stream",
     "text": [
      "100%|██████████| 43/43 [00:22<00:00,  1.89it/s]\n",
      "100%|██████████| 11/11 [00:02<00:00,  4.87it/s]\n"
     ]
    },
    {
     "name": "stdout",
     "output_type": "stream",
     "text": [
      "val_f1 : 0.7233565075322123 val_acc : 0.7470588235294118 train_loss : 1.6582786621049392 valid_loss : 1.5444457530975342\n"
     ]
    },
    {
     "name": "stderr",
     "output_type": "stream",
     "text": [
      "\r",
      "  0%|          | 0/43 [00:00<?, ?it/s]"
     ]
    },
    {
     "name": "stdout",
     "output_type": "stream",
     "text": [
      "Epoch: 5\n"
     ]
    },
    {
     "name": "stderr",
     "output_type": "stream",
     "text": [
      "100%|██████████| 43/43 [00:22<00:00,  1.88it/s]\n",
      "100%|██████████| 11/11 [00:02<00:00,  4.91it/s]\n"
     ]
    },
    {
     "name": "stdout",
     "output_type": "stream",
     "text": [
      "val_f1 : 0.7759449009654096 val_acc : 0.7970588235294118 train_loss : 1.5693101605703665 valid_loss : 1.4419206164099954\n"
     ]
    },
    {
     "name": "stderr",
     "output_type": "stream",
     "text": [
      "\r",
      "  0%|          | 0/43 [00:00<?, ?it/s]"
     ]
    },
    {
     "name": "stdout",
     "output_type": "stream",
     "text": [
      "Epoch: 6\n"
     ]
    },
    {
     "name": "stderr",
     "output_type": "stream",
     "text": [
      "100%|██████████| 43/43 [00:22<00:00,  1.89it/s]\n",
      "100%|██████████| 11/11 [00:02<00:00,  4.87it/s]\n"
     ]
    },
    {
     "name": "stdout",
     "output_type": "stream",
     "text": [
      "val_f1 : 0.811959287124541 val_acc : 0.8294117647058824 train_loss : 1.465907288152118 valid_loss : 1.3246725797653198\n"
     ]
    },
    {
     "name": "stderr",
     "output_type": "stream",
     "text": [
      "\r",
      "  0%|          | 0/43 [00:00<?, ?it/s]"
     ]
    },
    {
     "name": "stdout",
     "output_type": "stream",
     "text": [
      "Epoch: 7\n"
     ]
    },
    {
     "name": "stderr",
     "output_type": "stream",
     "text": [
      "100%|██████████| 43/43 [00:22<00:00,  1.92it/s]\n",
      "100%|██████████| 11/11 [00:02<00:00,  4.90it/s]\n"
     ]
    },
    {
     "name": "stdout",
     "output_type": "stream",
     "text": [
      "val_f1 : 0.8335014564515403 val_acc : 0.8470588235294118 train_loss : 1.369168614232263 valid_loss : 1.2014562433416194\n"
     ]
    },
    {
     "name": "stderr",
     "output_type": "stream",
     "text": [
      "\r",
      "  0%|          | 0/43 [00:00<?, ?it/s]"
     ]
    },
    {
     "name": "stdout",
     "output_type": "stream",
     "text": [
      "Epoch: 8\n"
     ]
    },
    {
     "name": "stderr",
     "output_type": "stream",
     "text": [
      "100%|██████████| 43/43 [00:22<00:00,  1.89it/s]\n",
      "100%|██████████| 11/11 [00:02<00:00,  4.90it/s]\n"
     ]
    },
    {
     "name": "stdout",
     "output_type": "stream",
     "text": [
      "val_f1 : 0.8634265921975784 val_acc : 0.8735294117647059 train_loss : 1.2489467193914014 valid_loss : 1.0733003507960925\n"
     ]
    },
    {
     "name": "stderr",
     "output_type": "stream",
     "text": [
      "\r",
      "  0%|          | 0/43 [00:00<?, ?it/s]"
     ]
    },
    {
     "name": "stdout",
     "output_type": "stream",
     "text": [
      "Epoch: 9\n"
     ]
    },
    {
     "name": "stderr",
     "output_type": "stream",
     "text": [
      "100%|██████████| 43/43 [00:22<00:00,  1.90it/s]\n",
      "100%|██████████| 11/11 [00:02<00:00,  4.94it/s]\n"
     ]
    },
    {
     "name": "stdout",
     "output_type": "stream",
     "text": [
      "val_f1 : 0.8806026667163469 val_acc : 0.8911764705882353 train_loss : 1.1485716950061708 valid_loss : 0.9524707198143005\n"
     ]
    },
    {
     "name": "stderr",
     "output_type": "stream",
     "text": [
      "\r",
      "  0%|          | 0/43 [00:00<?, ?it/s]"
     ]
    },
    {
     "name": "stdout",
     "output_type": "stream",
     "text": [
      "Epoch: 10\n"
     ]
    },
    {
     "name": "stderr",
     "output_type": "stream",
     "text": [
      "100%|██████████| 43/43 [00:22<00:00,  1.90it/s]\n",
      "100%|██████████| 11/11 [00:02<00:00,  4.91it/s]\n"
     ]
    },
    {
     "name": "stdout",
     "output_type": "stream",
     "text": [
      "val_f1 : 0.8868248404986553 val_acc : 0.8970588235294118 train_loss : 1.051393399404925 valid_loss : 0.8452263826673682\n"
     ]
    },
    {
     "name": "stderr",
     "output_type": "stream",
     "text": [
      "\r",
      "  0%|          | 0/43 [00:00<?, ?it/s]"
     ]
    },
    {
     "name": "stdout",
     "output_type": "stream",
     "text": [
      "Epoch: 11\n"
     ]
    },
    {
     "name": "stderr",
     "output_type": "stream",
     "text": [
      "100%|██████████| 43/43 [00:22<00:00,  1.90it/s]\n",
      "100%|██████████| 11/11 [00:02<00:00,  4.94it/s]\n"
     ]
    },
    {
     "name": "stdout",
     "output_type": "stream",
     "text": [
      "val_f1 : 0.9060513728289373 val_acc : 0.9117647058823529 train_loss : 0.955010824425276 valid_loss : 0.7497947988185015\n"
     ]
    },
    {
     "name": "stderr",
     "output_type": "stream",
     "text": [
      "\r",
      "  0%|          | 0/43 [00:00<?, ?it/s]"
     ]
    },
    {
     "name": "stdout",
     "output_type": "stream",
     "text": [
      "Epoch: 12\n"
     ]
    },
    {
     "name": "stderr",
     "output_type": "stream",
     "text": [
      "100%|██████████| 43/43 [00:22<00:00,  1.90it/s]\n",
      "100%|██████████| 11/11 [00:02<00:00,  4.95it/s]\n"
     ]
    },
    {
     "name": "stdout",
     "output_type": "stream",
     "text": [
      "val_f1 : 0.9142046399935921 val_acc : 0.9176470588235294 train_loss : 0.88112258356671 valid_loss : 0.6706034554676576\n"
     ]
    },
    {
     "name": "stderr",
     "output_type": "stream",
     "text": [
      "\r",
      "  0%|          | 0/43 [00:00<?, ?it/s]"
     ]
    },
    {
     "name": "stdout",
     "output_type": "stream",
     "text": [
      "Epoch: 13\n"
     ]
    },
    {
     "name": "stderr",
     "output_type": "stream",
     "text": [
      "100%|██████████| 43/43 [00:22<00:00,  1.90it/s]\n",
      "100%|██████████| 11/11 [00:02<00:00,  4.78it/s]\n"
     ]
    },
    {
     "name": "stdout",
     "output_type": "stream",
     "text": [
      "val_f1 : 0.9358441653230646 val_acc : 0.9352941176470588 train_loss : 0.7985911521800729 valid_loss : 0.6068424812772057\n"
     ]
    },
    {
     "name": "stderr",
     "output_type": "stream",
     "text": [
      "\r",
      "  0%|          | 0/43 [00:00<?, ?it/s]"
     ]
    },
    {
     "name": "stdout",
     "output_type": "stream",
     "text": [
      "Epoch: 14\n"
     ]
    },
    {
     "name": "stderr",
     "output_type": "stream",
     "text": [
      "100%|██████████| 43/43 [00:22<00:00,  1.89it/s]\n",
      "100%|██████████| 11/11 [00:02<00:00,  4.95it/s]\n"
     ]
    },
    {
     "name": "stdout",
     "output_type": "stream",
     "text": [
      "val_f1 : 0.9443833263390913 val_acc : 0.9441176470588235 train_loss : 0.7370948611303817 valid_loss : 0.5531114326281981\n"
     ]
    },
    {
     "name": "stderr",
     "output_type": "stream",
     "text": [
      "\r",
      "  0%|          | 0/43 [00:00<?, ?it/s]"
     ]
    },
    {
     "name": "stdout",
     "output_type": "stream",
     "text": [
      "Epoch: 15\n"
     ]
    },
    {
     "name": "stderr",
     "output_type": "stream",
     "text": [
      "100%|██████████| 43/43 [00:22<00:00,  1.88it/s]\n",
      "100%|██████████| 11/11 [00:02<00:00,  4.90it/s]\n",
      "  0%|          | 0/43 [00:00<?, ?it/s]"
     ]
    },
    {
     "name": "stdout",
     "output_type": "stream",
     "text": [
      "val_f1 : 0.9430079008496851 val_acc : 0.9411764705882353 train_loss : 0.6847190822279731 valid_loss : 0.5031177428635684\n",
      "Epoch: 16\n"
     ]
    },
    {
     "name": "stderr",
     "output_type": "stream",
     "text": [
      "100%|██████████| 43/43 [00:22<00:00,  1.91it/s]\n",
      "100%|██████████| 11/11 [00:02<00:00,  4.93it/s]\n"
     ]
    },
    {
     "name": "stdout",
     "output_type": "stream",
     "text": [
      "val_f1 : 0.9457859059673941 val_acc : 0.9441176470588235 train_loss : 0.602143584988838 valid_loss : 0.4617345373738896\n"
     ]
    },
    {
     "name": "stderr",
     "output_type": "stream",
     "text": [
      "\r",
      "  0%|          | 0/43 [00:00<?, ?it/s]"
     ]
    },
    {
     "name": "stdout",
     "output_type": "stream",
     "text": [
      "Epoch: 17\n"
     ]
    },
    {
     "name": "stderr",
     "output_type": "stream",
     "text": [
      "100%|██████████| 43/43 [00:22<00:00,  1.91it/s]\n",
      "100%|██████████| 11/11 [00:02<00:00,  4.89it/s]\n"
     ]
    },
    {
     "name": "stdout",
     "output_type": "stream",
     "text": [
      "val_f1 : 0.9530368472690826 val_acc : 0.9529411764705882 train_loss : 0.5789024774418321 valid_loss : 0.4249087782068686\n"
     ]
    },
    {
     "name": "stderr",
     "output_type": "stream",
     "text": [
      "\r",
      "  0%|          | 0/43 [00:00<?, ?it/s]"
     ]
    },
    {
     "name": "stdout",
     "output_type": "stream",
     "text": [
      "Epoch: 18\n"
     ]
    },
    {
     "name": "stderr",
     "output_type": "stream",
     "text": [
      "100%|██████████| 43/43 [00:22<00:00,  1.89it/s]\n",
      "100%|██████████| 11/11 [00:02<00:00,  4.91it/s]\n"
     ]
    },
    {
     "name": "stdout",
     "output_type": "stream",
     "text": [
      "val_f1 : 0.9537078561322343 val_acc : 0.9529411764705882 train_loss : 0.5544565091299456 valid_loss : 0.3932133838534355\n"
     ]
    },
    {
     "name": "stderr",
     "output_type": "stream",
     "text": [
      "\r",
      "  0%|          | 0/43 [00:00<?, ?it/s]"
     ]
    },
    {
     "name": "stdout",
     "output_type": "stream",
     "text": [
      "Epoch: 19\n"
     ]
    },
    {
     "name": "stderr",
     "output_type": "stream",
     "text": [
      "100%|██████████| 43/43 [00:22<00:00,  1.91it/s]\n",
      "100%|██████████| 11/11 [00:02<00:00,  4.92it/s]\n"
     ]
    },
    {
     "name": "stdout",
     "output_type": "stream",
     "text": [
      "val_f1 : 0.9578503761498682 val_acc : 0.9558823529411765 train_loss : 0.4959204626637836 valid_loss : 0.36672849411314185\n"
     ]
    },
    {
     "name": "stderr",
     "output_type": "stream",
     "text": [
      "\r",
      "  0%|          | 0/43 [00:00<?, ?it/s]"
     ]
    },
    {
     "name": "stdout",
     "output_type": "stream",
     "text": [
      "Epoch: 20\n"
     ]
    },
    {
     "name": "stderr",
     "output_type": "stream",
     "text": [
      "100%|██████████| 43/43 [00:22<00:00,  1.89it/s]\n",
      "100%|██████████| 11/11 [00:02<00:00,  4.89it/s]\n",
      "  0%|          | 0/43 [00:00<?, ?it/s]"
     ]
    },
    {
     "name": "stdout",
     "output_type": "stream",
     "text": [
      "val_f1 : 0.9571793672867163 val_acc : 0.9558823529411765 train_loss : 0.4646780629490697 valid_loss : 0.3399963913993402\n",
      "Epoch: 21\n"
     ]
    },
    {
     "name": "stderr",
     "output_type": "stream",
     "text": [
      "100%|██████████| 43/43 [00:22<00:00,  1.90it/s]\n",
      "100%|██████████| 11/11 [00:02<00:00,  4.88it/s]\n",
      "  0%|          | 0/43 [00:00<?, ?it/s]"
     ]
    },
    {
     "name": "stdout",
     "output_type": "stream",
     "text": [
      "val_f1 : 0.9578503761498682 val_acc : 0.9558823529411765 train_loss : 0.43000237609064856 valid_loss : 0.316685865548524\n",
      "Epoch: 22\n"
     ]
    },
    {
     "name": "stderr",
     "output_type": "stream",
     "text": [
      "100%|██████████| 43/43 [00:22<00:00,  1.91it/s]\n",
      "100%|██████████| 11/11 [00:02<00:00,  4.94it/s]\n"
     ]
    },
    {
     "name": "stdout",
     "output_type": "stream",
     "text": [
      "val_f1 : 0.9586946901533496 val_acc : 0.9588235294117647 train_loss : 0.4368931976861732 valid_loss : 0.29643695666031405\n"
     ]
    },
    {
     "name": "stderr",
     "output_type": "stream",
     "text": [
      "\r",
      "  0%|          | 0/43 [00:00<?, ?it/s]"
     ]
    },
    {
     "name": "stdout",
     "output_type": "stream",
     "text": [
      "Epoch: 23\n"
     ]
    },
    {
     "name": "stderr",
     "output_type": "stream",
     "text": [
      "100%|██████████| 43/43 [00:22<00:00,  1.91it/s]\n",
      "100%|██████████| 11/11 [00:02<00:00,  4.92it/s]\n"
     ]
    },
    {
     "name": "stdout",
     "output_type": "stream",
     "text": [
      "val_f1 : 0.9607153049314014 val_acc : 0.961764705882353 train_loss : 0.3766141804151757 valid_loss : 0.2803781635381959\n"
     ]
    },
    {
     "name": "stderr",
     "output_type": "stream",
     "text": [
      "\r",
      "  0%|          | 0/43 [00:00<?, ?it/s]"
     ]
    },
    {
     "name": "stdout",
     "output_type": "stream",
     "text": [
      "Epoch: 24\n"
     ]
    },
    {
     "name": "stderr",
     "output_type": "stream",
     "text": [
      "100%|██████████| 43/43 [00:22<00:00,  1.89it/s]\n",
      "100%|██████████| 11/11 [00:02<00:00,  4.92it/s]\n",
      "  0%|          | 0/43 [00:00<?, ?it/s]"
     ]
    },
    {
     "name": "stdout",
     "output_type": "stream",
     "text": [
      "val_f1 : 0.9607153049314014 val_acc : 0.961764705882353 train_loss : 0.37547034614307934 valid_loss : 0.2664437724108046\n",
      "Epoch: 25\n"
     ]
    },
    {
     "name": "stderr",
     "output_type": "stream",
     "text": [
      "100%|██████████| 43/43 [00:22<00:00,  1.90it/s]\n",
      "100%|██████████| 11/11 [00:02<00:00,  4.88it/s]\n"
     ]
    },
    {
     "name": "stdout",
     "output_type": "stream",
     "text": [
      "val_f1 : 0.9633562498565962 val_acc : 0.9647058823529412 train_loss : 0.34068590575872465 valid_loss : 0.2539710615846244\n"
     ]
    },
    {
     "name": "stderr",
     "output_type": "stream",
     "text": [
      "\r",
      "  0%|          | 0/43 [00:00<?, ?it/s]"
     ]
    },
    {
     "name": "stdout",
     "output_type": "stream",
     "text": [
      "Epoch: 26\n"
     ]
    },
    {
     "name": "stderr",
     "output_type": "stream",
     "text": [
      "100%|██████████| 43/43 [00:22<00:00,  1.90it/s]\n",
      "100%|██████████| 11/11 [00:02<00:00,  4.91it/s]\n",
      "  0%|          | 0/43 [00:00<?, ?it/s]"
     ]
    },
    {
     "name": "stdout",
     "output_type": "stream",
     "text": [
      "val_f1 : 0.9597975185028338 val_acc : 0.961764705882353 train_loss : 0.33604351864304655 valid_loss : 0.24517748471010814\n",
      "Epoch: 27\n"
     ]
    },
    {
     "name": "stderr",
     "output_type": "stream",
     "text": [
      "100%|██████████| 43/43 [00:22<00:00,  1.91it/s]\n",
      "100%|██████████| 11/11 [00:02<00:00,  4.88it/s]\n",
      "  0%|          | 0/43 [00:00<?, ?it/s]"
     ]
    },
    {
     "name": "stdout",
     "output_type": "stream",
     "text": [
      "val_f1 : 0.954624528408745 val_acc : 0.9588235294117647 train_loss : 0.32559424014978633 valid_loss : 0.2327532565051859\n",
      "Epoch: 28\n"
     ]
    },
    {
     "name": "stderr",
     "output_type": "stream",
     "text": [
      "100%|██████████| 43/43 [00:22<00:00,  1.89it/s]\n",
      "100%|██████████| 11/11 [00:02<00:00,  4.94it/s]\n"
     ]
    },
    {
     "name": "stdout",
     "output_type": "stream",
     "text": [
      "val_f1 : 0.954624528408745 val_acc : 0.9588235294117647 train_loss : 0.2905541873255441 valid_loss : 0.2218950759958137\n",
      "Early Stop: 28\n"
     ]
    },
    {
     "name": "stderr",
     "output_type": "stream",
     "text": [
      "100%|██████████| 22/22 [00:02<00:00,  9.18it/s]\n"
     ]
    },
    {
     "name": "stdout",
     "output_type": "stream",
     "text": [
      "cuda\n"
     ]
    },
    {
     "name": "stderr",
     "output_type": "stream",
     "text": [
      "\r",
      "  0%|          | 0/43 [00:00<?, ?it/s]"
     ]
    },
    {
     "name": "stdout",
     "output_type": "stream",
     "text": [
      "Loaded pretrained weights for efficientnet-b3\n",
      "Epoch: 0\n"
     ]
    },
    {
     "name": "stderr",
     "output_type": "stream",
     "text": [
      "100%|██████████| 43/43 [00:22<00:00,  1.90it/s]\n",
      "100%|██████████| 11/11 [00:02<00:00,  4.94it/s]\n"
     ]
    },
    {
     "name": "stdout",
     "output_type": "stream",
     "text": [
      "val_f1 : 0.2602591394269182 val_acc : 0.31176470588235294 train_loss : 1.9200130867403606 valid_loss : 1.8433443091132424\n"
     ]
    },
    {
     "name": "stderr",
     "output_type": "stream",
     "text": [
      "\r",
      "  0%|          | 0/43 [00:00<?, ?it/s]"
     ]
    },
    {
     "name": "stdout",
     "output_type": "stream",
     "text": [
      "Epoch: 1\n"
     ]
    },
    {
     "name": "stderr",
     "output_type": "stream",
     "text": [
      "100%|██████████| 43/43 [00:22<00:00,  1.91it/s]\n",
      "100%|██████████| 11/11 [00:02<00:00,  4.97it/s]\n"
     ]
    },
    {
     "name": "stdout",
     "output_type": "stream",
     "text": [
      "val_f1 : 0.4153800258556026 val_acc : 0.4852941176470588 train_loss : 1.8468823599260906 valid_loss : 1.7665505842729048\n"
     ]
    },
    {
     "name": "stderr",
     "output_type": "stream",
     "text": [
      "\r",
      "  0%|          | 0/43 [00:00<?, ?it/s]"
     ]
    },
    {
     "name": "stdout",
     "output_type": "stream",
     "text": [
      "Epoch: 2\n"
     ]
    },
    {
     "name": "stderr",
     "output_type": "stream",
     "text": [
      "100%|██████████| 43/43 [00:22<00:00,  1.90it/s]\n",
      "100%|██████████| 11/11 [00:02<00:00,  4.91it/s]\n"
     ]
    },
    {
     "name": "stdout",
     "output_type": "stream",
     "text": [
      "val_f1 : 0.5425830061277859 val_acc : 0.6058823529411764 train_loss : 1.769912974778996 valid_loss : 1.6879884221337058\n"
     ]
    },
    {
     "name": "stderr",
     "output_type": "stream",
     "text": [
      "\r",
      "  0%|          | 0/43 [00:00<?, ?it/s]"
     ]
    },
    {
     "name": "stdout",
     "output_type": "stream",
     "text": [
      "Epoch: 3\n"
     ]
    },
    {
     "name": "stderr",
     "output_type": "stream",
     "text": [
      "100%|██████████| 43/43 [00:22<00:00,  1.90it/s]\n",
      "100%|██████████| 11/11 [00:02<00:00,  4.89it/s]\n"
     ]
    },
    {
     "name": "stdout",
     "output_type": "stream",
     "text": [
      "val_f1 : 0.6466041156558242 val_acc : 0.7058823529411765 train_loss : 1.692629755929459 valid_loss : 1.6074189706282183\n"
     ]
    },
    {
     "name": "stderr",
     "output_type": "stream",
     "text": [
      "\r",
      "  0%|          | 0/43 [00:00<?, ?it/s]"
     ]
    },
    {
     "name": "stdout",
     "output_type": "stream",
     "text": [
      "Epoch: 4\n"
     ]
    },
    {
     "name": "stderr",
     "output_type": "stream",
     "text": [
      "100%|██████████| 43/43 [00:22<00:00,  1.89it/s]\n",
      "100%|██████████| 11/11 [00:02<00:00,  4.94it/s]\n"
     ]
    },
    {
     "name": "stdout",
     "output_type": "stream",
     "text": [
      "val_f1 : 0.720800215120214 val_acc : 0.7617647058823529 train_loss : 1.6090527966965076 valid_loss : 1.5186792828819968\n"
     ]
    },
    {
     "name": "stderr",
     "output_type": "stream",
     "text": [
      "\r",
      "  0%|          | 0/43 [00:00<?, ?it/s]"
     ]
    },
    {
     "name": "stdout",
     "output_type": "stream",
     "text": [
      "Epoch: 5\n"
     ]
    },
    {
     "name": "stderr",
     "output_type": "stream",
     "text": [
      "100%|██████████| 43/43 [00:22<00:00,  1.90it/s]\n",
      "100%|██████████| 11/11 [00:02<00:00,  4.94it/s]\n"
     ]
    },
    {
     "name": "stdout",
     "output_type": "stream",
     "text": [
      "val_f1 : 0.7585412676768838 val_acc : 0.7911764705882353 train_loss : 1.513748002606769 valid_loss : 1.4159832759336992\n"
     ]
    },
    {
     "name": "stderr",
     "output_type": "stream",
     "text": [
      "\r",
      "  0%|          | 0/43 [00:00<?, ?it/s]"
     ]
    },
    {
     "name": "stdout",
     "output_type": "stream",
     "text": [
      "Epoch: 6\n"
     ]
    },
    {
     "name": "stderr",
     "output_type": "stream",
     "text": [
      "100%|██████████| 43/43 [00:22<00:00,  1.88it/s]\n",
      "100%|██████████| 11/11 [00:02<00:00,  4.85it/s]\n"
     ]
    },
    {
     "name": "stdout",
     "output_type": "stream",
     "text": [
      "val_f1 : 0.7917951230785699 val_acc : 0.8147058823529412 train_loss : 1.4172633082367654 valid_loss : 1.3039599006826228\n"
     ]
    },
    {
     "name": "stderr",
     "output_type": "stream",
     "text": [
      "\r",
      "  0%|          | 0/43 [00:00<?, ?it/s]"
     ]
    },
    {
     "name": "stdout",
     "output_type": "stream",
     "text": [
      "Epoch: 7\n"
     ]
    },
    {
     "name": "stderr",
     "output_type": "stream",
     "text": [
      "100%|██████████| 43/43 [00:22<00:00,  1.91it/s]\n",
      "100%|██████████| 11/11 [00:02<00:00,  4.92it/s]\n"
     ]
    },
    {
     "name": "stdout",
     "output_type": "stream",
     "text": [
      "val_f1 : 0.8182684608017903 val_acc : 0.8382352941176471 train_loss : 1.3124229630758597 valid_loss : 1.182749937881123\n"
     ]
    },
    {
     "name": "stderr",
     "output_type": "stream",
     "text": [
      "\r",
      "  0%|          | 0/43 [00:00<?, ?it/s]"
     ]
    },
    {
     "name": "stdout",
     "output_type": "stream",
     "text": [
      "Epoch: 8\n"
     ]
    },
    {
     "name": "stderr",
     "output_type": "stream",
     "text": [
      "100%|██████████| 43/43 [00:22<00:00,  1.91it/s]\n",
      "100%|██████████| 11/11 [00:02<00:00,  4.93it/s]\n"
     ]
    },
    {
     "name": "stdout",
     "output_type": "stream",
     "text": [
      "val_f1 : 0.8444170573928524 val_acc : 0.8588235294117647 train_loss : 1.1929207485775615 valid_loss : 1.0620740408247167\n"
     ]
    },
    {
     "name": "stderr",
     "output_type": "stream",
     "text": [
      "\r",
      "  0%|          | 0/43 [00:00<?, ?it/s]"
     ]
    },
    {
     "name": "stdout",
     "output_type": "stream",
     "text": [
      "Epoch: 9\n"
     ]
    },
    {
     "name": "stderr",
     "output_type": "stream",
     "text": [
      "100%|██████████| 43/43 [00:22<00:00,  1.88it/s]\n",
      "100%|██████████| 11/11 [00:02<00:00,  4.93it/s]\n"
     ]
    },
    {
     "name": "stdout",
     "output_type": "stream",
     "text": [
      "val_f1 : 0.8686051110237891 val_acc : 0.8794117647058823 train_loss : 1.0763885614483855 valid_loss : 0.947730235078118\n"
     ]
    },
    {
     "name": "stderr",
     "output_type": "stream",
     "text": [
      "\r",
      "  0%|          | 0/43 [00:00<?, ?it/s]"
     ]
    },
    {
     "name": "stdout",
     "output_type": "stream",
     "text": [
      "Epoch: 10\n"
     ]
    },
    {
     "name": "stderr",
     "output_type": "stream",
     "text": [
      "100%|██████████| 43/43 [00:22<00:00,  1.89it/s]\n",
      "100%|██████████| 11/11 [00:02<00:00,  4.91it/s]\n"
     ]
    },
    {
     "name": "stdout",
     "output_type": "stream",
     "text": [
      "val_f1 : 0.8818732331008913 val_acc : 0.888235294117647 train_loss : 0.9988085156263307 valid_loss : 0.8505837944420901\n"
     ]
    },
    {
     "name": "stderr",
     "output_type": "stream",
     "text": [
      "\r",
      "  0%|          | 0/43 [00:00<?, ?it/s]"
     ]
    },
    {
     "name": "stdout",
     "output_type": "stream",
     "text": [
      "Epoch: 11\n"
     ]
    },
    {
     "name": "stderr",
     "output_type": "stream",
     "text": [
      "100%|██████████| 43/43 [00:22<00:00,  1.90it/s]\n",
      "100%|██████████| 11/11 [00:02<00:00,  4.85it/s]\n"
     ]
    },
    {
     "name": "stdout",
     "output_type": "stream",
     "text": [
      "val_f1 : 0.8967801289344829 val_acc : 0.9029411764705882 train_loss : 0.9024758172589679 valid_loss : 0.7576132416725159\n"
     ]
    },
    {
     "name": "stderr",
     "output_type": "stream",
     "text": [
      "\r",
      "  0%|          | 0/43 [00:00<?, ?it/s]"
     ]
    },
    {
     "name": "stdout",
     "output_type": "stream",
     "text": [
      "Epoch: 12\n"
     ]
    },
    {
     "name": "stderr",
     "output_type": "stream",
     "text": [
      "100%|██████████| 43/43 [00:22<00:00,  1.90it/s]\n",
      "100%|██████████| 11/11 [00:02<00:00,  4.92it/s]\n"
     ]
    },
    {
     "name": "stdout",
     "output_type": "stream",
     "text": [
      "val_f1 : 0.9031969477771788 val_acc : 0.9088235294117647 train_loss : 0.8440181682276171 valid_loss : 0.6821845295754346\n"
     ]
    },
    {
     "name": "stderr",
     "output_type": "stream",
     "text": [
      "\r",
      "  0%|          | 0/43 [00:00<?, ?it/s]"
     ]
    },
    {
     "name": "stdout",
     "output_type": "stream",
     "text": [
      "Epoch: 13\n"
     ]
    },
    {
     "name": "stderr",
     "output_type": "stream",
     "text": [
      "100%|██████████| 43/43 [00:22<00:00,  1.91it/s]\n",
      "100%|██████████| 11/11 [00:02<00:00,  4.86it/s]\n",
      "  0%|          | 0/43 [00:00<?, ?it/s]"
     ]
    },
    {
     "name": "stdout",
     "output_type": "stream",
     "text": [
      "val_f1 : 0.9017442952867405 val_acc : 0.9088235294117647 train_loss : 0.7604961755663849 valid_loss : 0.617051973938942\n",
      "Epoch: 14\n"
     ]
    },
    {
     "name": "stderr",
     "output_type": "stream",
     "text": [
      "100%|██████████| 43/43 [00:22<00:00,  1.91it/s]\n",
      "100%|██████████| 11/11 [00:02<00:00,  4.91it/s]\n"
     ]
    },
    {
     "name": "stdout",
     "output_type": "stream",
     "text": [
      "val_f1 : 0.9141306508842739 val_acc : 0.9205882352941176 train_loss : 0.7020813559376916 valid_loss : 0.5598543164404955\n"
     ]
    },
    {
     "name": "stderr",
     "output_type": "stream",
     "text": [
      "\r",
      "  0%|          | 0/43 [00:00<?, ?it/s]"
     ]
    },
    {
     "name": "stdout",
     "output_type": "stream",
     "text": [
      "Epoch: 15\n"
     ]
    },
    {
     "name": "stderr",
     "output_type": "stream",
     "text": [
      "100%|██████████| 43/43 [00:22<00:00,  1.88it/s]\n",
      "100%|██████████| 11/11 [00:02<00:00,  4.93it/s]\n"
     ]
    },
    {
     "name": "stdout",
     "output_type": "stream",
     "text": [
      "val_f1 : 0.9181327325912737 val_acc : 0.9235294117647059 train_loss : 0.6398564355317936 valid_loss : 0.5145505693825808\n"
     ]
    },
    {
     "name": "stderr",
     "output_type": "stream",
     "text": [
      "\r",
      "  0%|          | 0/43 [00:00<?, ?it/s]"
     ]
    },
    {
     "name": "stdout",
     "output_type": "stream",
     "text": [
      "Epoch: 16\n"
     ]
    },
    {
     "name": "stderr",
     "output_type": "stream",
     "text": [
      "100%|██████████| 43/43 [00:22<00:00,  1.89it/s]\n",
      "100%|██████████| 11/11 [00:02<00:00,  4.90it/s]\n"
     ]
    },
    {
     "name": "stdout",
     "output_type": "stream",
     "text": [
      "val_f1 : 0.9234948362930844 val_acc : 0.9294117647058824 train_loss : 0.5678253908490025 valid_loss : 0.4710974476554177\n"
     ]
    },
    {
     "name": "stderr",
     "output_type": "stream",
     "text": [
      "\r",
      "  0%|          | 0/43 [00:00<?, ?it/s]"
     ]
    },
    {
     "name": "stdout",
     "output_type": "stream",
     "text": [
      "Epoch: 17\n"
     ]
    },
    {
     "name": "stderr",
     "output_type": "stream",
     "text": [
      "100%|██████████| 43/43 [00:22<00:00,  1.91it/s]\n",
      "100%|██████████| 11/11 [00:02<00:00,  4.91it/s]\n",
      "  0%|          | 0/43 [00:00<?, ?it/s]"
     ]
    },
    {
     "name": "stdout",
     "output_type": "stream",
     "text": [
      "val_f1 : 0.9228531180356276 val_acc : 0.9294117647058824 train_loss : 0.5613865810771321 valid_loss : 0.4334717081351714\n",
      "Epoch: 18\n"
     ]
    },
    {
     "name": "stderr",
     "output_type": "stream",
     "text": [
      "100%|██████████| 43/43 [00:22<00:00,  1.91it/s]\n",
      "100%|██████████| 11/11 [00:02<00:00,  4.90it/s]\n",
      "  0%|          | 0/43 [00:00<?, ?it/s]"
     ]
    },
    {
     "name": "stdout",
     "output_type": "stream",
     "text": [
      "val_f1 : 0.9228531180356276 val_acc : 0.9294117647058824 train_loss : 0.5089656260124472 valid_loss : 0.4001681018959392\n",
      "Epoch: 19\n"
     ]
    },
    {
     "name": "stderr",
     "output_type": "stream",
     "text": [
      "100%|██████████| 43/43 [00:22<00:00,  1.91it/s]\n",
      "100%|██████████| 11/11 [00:02<00:00,  4.91it/s]\n"
     ]
    },
    {
     "name": "stdout",
     "output_type": "stream",
     "text": [
      "val_f1 : 0.926989722172232 val_acc : 0.9323529411764706 train_loss : 0.4610844885194024 valid_loss : 0.37125477668913925\n"
     ]
    },
    {
     "name": "stderr",
     "output_type": "stream",
     "text": [
      "\r",
      "  0%|          | 0/43 [00:00<?, ?it/s]"
     ]
    },
    {
     "name": "stdout",
     "output_type": "stream",
     "text": [
      "Epoch: 20\n"
     ]
    },
    {
     "name": "stderr",
     "output_type": "stream",
     "text": [
      "100%|██████████| 43/43 [00:22<00:00,  1.90it/s]\n",
      "100%|██████████| 11/11 [00:02<00:00,  4.81it/s]\n"
     ]
    },
    {
     "name": "stdout",
     "output_type": "stream",
     "text": [
      "val_f1 : 0.9301680474017867 val_acc : 0.9352941176470588 train_loss : 0.4420383038908936 valid_loss : 0.345302205871452\n"
     ]
    },
    {
     "name": "stderr",
     "output_type": "stream",
     "text": [
      "\r",
      "  0%|          | 0/43 [00:00<?, ?it/s]"
     ]
    },
    {
     "name": "stdout",
     "output_type": "stream",
     "text": [
      "Epoch: 21\n"
     ]
    },
    {
     "name": "stderr",
     "output_type": "stream",
     "text": [
      "100%|██████████| 43/43 [00:22<00:00,  1.89it/s]\n",
      "100%|██████████| 11/11 [00:02<00:00,  4.85it/s]\n",
      "  0%|          | 0/43 [00:00<?, ?it/s]"
     ]
    },
    {
     "name": "stdout",
     "output_type": "stream",
     "text": [
      "val_f1 : 0.9264492752353205 val_acc : 0.9323529411764706 train_loss : 0.42912434907846675 valid_loss : 0.32464428516951477\n",
      "Epoch: 22\n"
     ]
    },
    {
     "name": "stderr",
     "output_type": "stream",
     "text": [
      "100%|██████████| 43/43 [00:22<00:00,  1.90it/s]\n",
      "100%|██████████| 11/11 [00:02<00:00,  4.90it/s]\n",
      "  0%|          | 0/43 [00:00<?, ?it/s]"
     ]
    },
    {
     "name": "stdout",
     "output_type": "stream",
     "text": [
      "val_f1 : 0.9264492752353205 val_acc : 0.9323529411764706 train_loss : 0.39327232712923094 valid_loss : 0.3074294924736023\n",
      "Epoch: 23\n"
     ]
    },
    {
     "name": "stderr",
     "output_type": "stream",
     "text": [
      "100%|██████████| 43/43 [00:22<00:00,  1.89it/s]\n",
      "100%|██████████| 11/11 [00:02<00:00,  4.88it/s]\n"
     ]
    },
    {
     "name": "stdout",
     "output_type": "stream",
     "text": [
      "val_f1 : 0.9264492752353205 val_acc : 0.9323529411764706 train_loss : 0.35710940458053764 valid_loss : 0.28994211283597077\n",
      "Early Stop: 23\n"
     ]
    },
    {
     "name": "stderr",
     "output_type": "stream",
     "text": [
      "100%|██████████| 22/22 [00:02<00:00,  9.10it/s]\n"
     ]
    },
    {
     "name": "stdout",
     "output_type": "stream",
     "text": [
      "cuda\n",
      "Loaded pretrained weights for efficientnet-b3\n"
     ]
    },
    {
     "name": "stderr",
     "output_type": "stream",
     "text": [
      "\r",
      "  0%|          | 0/43 [00:00<?, ?it/s]"
     ]
    },
    {
     "name": "stdout",
     "output_type": "stream",
     "text": [
      "Epoch: 0\n"
     ]
    },
    {
     "name": "stderr",
     "output_type": "stream",
     "text": [
      "100%|██████████| 43/43 [00:22<00:00,  1.90it/s]\n",
      "100%|██████████| 11/11 [00:02<00:00,  4.88it/s]\n"
     ]
    },
    {
     "name": "stdout",
     "output_type": "stream",
     "text": [
      "val_f1 : 0.28414057434019646 val_acc : 0.31176470588235294 train_loss : 1.9225848053776942 valid_loss : 1.8560138073834507\n"
     ]
    },
    {
     "name": "stderr",
     "output_type": "stream",
     "text": [
      "\r",
      "  0%|          | 0/43 [00:00<?, ?it/s]"
     ]
    },
    {
     "name": "stdout",
     "output_type": "stream",
     "text": [
      "Epoch: 1\n"
     ]
    },
    {
     "name": "stderr",
     "output_type": "stream",
     "text": [
      "100%|██████████| 43/43 [00:22<00:00,  1.89it/s]\n",
      "100%|██████████| 11/11 [00:02<00:00,  4.90it/s]\n"
     ]
    },
    {
     "name": "stdout",
     "output_type": "stream",
     "text": [
      "val_f1 : 0.4422493189786774 val_acc : 0.4823529411764706 train_loss : 1.8504040573918543 valid_loss : 1.7770387476140803\n"
     ]
    },
    {
     "name": "stderr",
     "output_type": "stream",
     "text": [
      "\r",
      "  0%|          | 0/43 [00:00<?, ?it/s]"
     ]
    },
    {
     "name": "stdout",
     "output_type": "stream",
     "text": [
      "Epoch: 2\n"
     ]
    },
    {
     "name": "stderr",
     "output_type": "stream",
     "text": [
      "100%|██████████| 43/43 [00:22<00:00,  1.89it/s]\n",
      "100%|██████████| 11/11 [00:02<00:00,  4.79it/s]\n"
     ]
    },
    {
     "name": "stdout",
     "output_type": "stream",
     "text": [
      "val_f1 : 0.5403070648800056 val_acc : 0.6 train_loss : 1.7830839295719945 valid_loss : 1.7007581970908425\n"
     ]
    },
    {
     "name": "stderr",
     "output_type": "stream",
     "text": [
      "\r",
      "  0%|          | 0/43 [00:00<?, ?it/s]"
     ]
    },
    {
     "name": "stdout",
     "output_type": "stream",
     "text": [
      "Epoch: 3\n"
     ]
    },
    {
     "name": "stderr",
     "output_type": "stream",
     "text": [
      "100%|██████████| 43/43 [00:22<00:00,  1.89it/s]\n",
      "100%|██████████| 11/11 [00:02<00:00,  4.88it/s]\n"
     ]
    },
    {
     "name": "stdout",
     "output_type": "stream",
     "text": [
      "val_f1 : 0.675903447740924 val_acc : 0.7205882352941176 train_loss : 1.7026388894679934 valid_loss : 1.6227841810746626\n"
     ]
    },
    {
     "name": "stderr",
     "output_type": "stream",
     "text": [
      "\r",
      "  0%|          | 0/43 [00:00<?, ?it/s]"
     ]
    },
    {
     "name": "stdout",
     "output_type": "stream",
     "text": [
      "Epoch: 4\n"
     ]
    },
    {
     "name": "stderr",
     "output_type": "stream",
     "text": [
      "100%|██████████| 43/43 [00:22<00:00,  1.89it/s]\n",
      "100%|██████████| 11/11 [00:02<00:00,  4.93it/s]\n"
     ]
    },
    {
     "name": "stdout",
     "output_type": "stream",
     "text": [
      "val_f1 : 0.7262730463115147 val_acc : 0.7676470588235295 train_loss : 1.6283632655476414 valid_loss : 1.5341321229934692\n"
     ]
    },
    {
     "name": "stderr",
     "output_type": "stream",
     "text": [
      "\r",
      "  0%|          | 0/43 [00:00<?, ?it/s]"
     ]
    },
    {
     "name": "stdout",
     "output_type": "stream",
     "text": [
      "Epoch: 5\n"
     ]
    },
    {
     "name": "stderr",
     "output_type": "stream",
     "text": [
      "100%|██████████| 43/43 [00:22<00:00,  1.89it/s]\n",
      "100%|██████████| 11/11 [00:02<00:00,  4.88it/s]\n"
     ]
    },
    {
     "name": "stdout",
     "output_type": "stream",
     "text": [
      "val_f1 : 0.7682736804858443 val_acc : 0.8 train_loss : 1.5411627043125242 valid_loss : 1.4352918863296509\n"
     ]
    },
    {
     "name": "stderr",
     "output_type": "stream",
     "text": [
      "\r",
      "  0%|          | 0/43 [00:00<?, ?it/s]"
     ]
    },
    {
     "name": "stdout",
     "output_type": "stream",
     "text": [
      "Epoch: 6\n"
     ]
    },
    {
     "name": "stderr",
     "output_type": "stream",
     "text": [
      "100%|██████████| 43/43 [00:22<00:00,  1.91it/s]\n",
      "100%|██████████| 11/11 [00:02<00:00,  4.84it/s]\n"
     ]
    },
    {
     "name": "stdout",
     "output_type": "stream",
     "text": [
      "val_f1 : 0.7858732614539534 val_acc : 0.8176470588235294 train_loss : 1.443978988847067 valid_loss : 1.3246971693905918\n"
     ]
    },
    {
     "name": "stderr",
     "output_type": "stream",
     "text": [
      "\r",
      "  0%|          | 0/43 [00:00<?, ?it/s]"
     ]
    },
    {
     "name": "stdout",
     "output_type": "stream",
     "text": [
      "Epoch: 7\n"
     ]
    },
    {
     "name": "stderr",
     "output_type": "stream",
     "text": [
      "100%|██████████| 43/43 [00:22<00:00,  1.90it/s]\n",
      "100%|██████████| 11/11 [00:02<00:00,  4.86it/s]\n"
     ]
    },
    {
     "name": "stdout",
     "output_type": "stream",
     "text": [
      "val_f1 : 0.8284602648623206 val_acc : 0.85 train_loss : 1.3346470954806307 valid_loss : 1.2032951333306052\n"
     ]
    },
    {
     "name": "stderr",
     "output_type": "stream",
     "text": [
      "\r",
      "  0%|          | 0/43 [00:00<?, ?it/s]"
     ]
    },
    {
     "name": "stdout",
     "output_type": "stream",
     "text": [
      "Epoch: 8\n"
     ]
    },
    {
     "name": "stderr",
     "output_type": "stream",
     "text": [
      "100%|██████████| 43/43 [00:22<00:00,  1.90it/s]\n",
      "100%|██████████| 11/11 [00:02<00:00,  4.88it/s]\n"
     ]
    },
    {
     "name": "stdout",
     "output_type": "stream",
     "text": [
      "val_f1 : 0.8523620839031668 val_acc : 0.8676470588235294 train_loss : 1.2246592238891956 valid_loss : 1.0766012885353782\n"
     ]
    },
    {
     "name": "stderr",
     "output_type": "stream",
     "text": [
      "\r",
      "  0%|          | 0/43 [00:00<?, ?it/s]"
     ]
    },
    {
     "name": "stdout",
     "output_type": "stream",
     "text": [
      "Epoch: 9\n"
     ]
    },
    {
     "name": "stderr",
     "output_type": "stream",
     "text": [
      "100%|██████████| 43/43 [00:22<00:00,  1.89it/s]\n",
      "100%|██████████| 11/11 [00:02<00:00,  4.86it/s]\n"
     ]
    },
    {
     "name": "stdout",
     "output_type": "stream",
     "text": [
      "val_f1 : 0.8661261589173014 val_acc : 0.8794117647058823 train_loss : 1.1278369301973388 valid_loss : 0.9588721719655123\n"
     ]
    },
    {
     "name": "stderr",
     "output_type": "stream",
     "text": [
      "\r",
      "  0%|          | 0/43 [00:00<?, ?it/s]"
     ]
    },
    {
     "name": "stdout",
     "output_type": "stream",
     "text": [
      "Epoch: 10\n"
     ]
    },
    {
     "name": "stderr",
     "output_type": "stream",
     "text": [
      "100%|██████████| 43/43 [00:22<00:00,  1.89it/s]\n",
      "100%|██████████| 11/11 [00:02<00:00,  4.92it/s]\n"
     ]
    },
    {
     "name": "stdout",
     "output_type": "stream",
     "text": [
      "val_f1 : 0.8807207226861147 val_acc : 0.8911764705882353 train_loss : 1.0226548161617546 valid_loss : 0.8530848080461676\n"
     ]
    },
    {
     "name": "stderr",
     "output_type": "stream",
     "text": [
      "\r",
      "  0%|          | 0/43 [00:00<?, ?it/s]"
     ]
    },
    {
     "name": "stdout",
     "output_type": "stream",
     "text": [
      "Epoch: 11\n"
     ]
    },
    {
     "name": "stderr",
     "output_type": "stream",
     "text": [
      "100%|██████████| 43/43 [00:22<00:00,  1.88it/s]\n",
      "100%|██████████| 11/11 [00:02<00:00,  4.91it/s]\n"
     ]
    },
    {
     "name": "stdout",
     "output_type": "stream",
     "text": [
      "val_f1 : 0.8901662859054497 val_acc : 0.9 train_loss : 0.9229612641556318 valid_loss : 0.76026297157461\n"
     ]
    },
    {
     "name": "stderr",
     "output_type": "stream",
     "text": [
      "\r",
      "  0%|          | 0/43 [00:00<?, ?it/s]"
     ]
    },
    {
     "name": "stdout",
     "output_type": "stream",
     "text": [
      "Epoch: 12\n"
     ]
    },
    {
     "name": "stderr",
     "output_type": "stream",
     "text": [
      "100%|██████████| 43/43 [00:22<00:00,  1.89it/s]\n",
      "100%|██████████| 11/11 [00:02<00:00,  4.86it/s]\n"
     ]
    },
    {
     "name": "stdout",
     "output_type": "stream",
     "text": [
      "val_f1 : 0.9149042746026473 val_acc : 0.9205882352941176 train_loss : 0.833512008190155 valid_loss : 0.6842128444801677\n"
     ]
    },
    {
     "name": "stderr",
     "output_type": "stream",
     "text": [
      "\r",
      "  0%|          | 0/43 [00:00<?, ?it/s]"
     ]
    },
    {
     "name": "stdout",
     "output_type": "stream",
     "text": [
      "Epoch: 13\n"
     ]
    },
    {
     "name": "stderr",
     "output_type": "stream",
     "text": [
      "100%|██████████| 43/43 [00:22<00:00,  1.89it/s]\n",
      "100%|██████████| 11/11 [00:02<00:00,  4.83it/s]\n"
     ]
    },
    {
     "name": "stdout",
     "output_type": "stream",
     "text": [
      "val_f1 : 0.9208917109673427 val_acc : 0.9264705882352942 train_loss : 0.7700055615846501 valid_loss : 0.6128057376904921\n"
     ]
    },
    {
     "name": "stderr",
     "output_type": "stream",
     "text": [
      "\r",
      "  0%|          | 0/43 [00:00<?, ?it/s]"
     ]
    },
    {
     "name": "stdout",
     "output_type": "stream",
     "text": [
      "Epoch: 14\n"
     ]
    },
    {
     "name": "stderr",
     "output_type": "stream",
     "text": [
      "100%|██████████| 43/43 [00:22<00:00,  1.89it/s]\n",
      "100%|██████████| 11/11 [00:02<00:00,  4.88it/s]\n"
     ]
    },
    {
     "name": "stdout",
     "output_type": "stream",
     "text": [
      "val_f1 : 0.9286035356836937 val_acc : 0.9323529411764706 train_loss : 0.6839416997377262 valid_loss : 0.5522427287968722\n"
     ]
    },
    {
     "name": "stderr",
     "output_type": "stream",
     "text": [
      "\r",
      "  0%|          | 0/43 [00:00<?, ?it/s]"
     ]
    },
    {
     "name": "stdout",
     "output_type": "stream",
     "text": [
      "Epoch: 15\n"
     ]
    },
    {
     "name": "stderr",
     "output_type": "stream",
     "text": [
      "100%|██████████| 43/43 [00:22<00:00,  1.91it/s]\n",
      "100%|██████████| 11/11 [00:02<00:00,  4.87it/s]\n"
     ]
    },
    {
     "name": "stdout",
     "output_type": "stream",
     "text": [
      "val_f1 : 0.941224550620669 val_acc : 0.9441176470588235 train_loss : 0.653613195862881 valid_loss : 0.5005197511477903\n"
     ]
    },
    {
     "name": "stderr",
     "output_type": "stream",
     "text": [
      "\r",
      "  0%|          | 0/43 [00:00<?, ?it/s]"
     ]
    },
    {
     "name": "stdout",
     "output_type": "stream",
     "text": [
      "Epoch: 16\n"
     ]
    },
    {
     "name": "stderr",
     "output_type": "stream",
     "text": [
      "100%|██████████| 43/43 [00:22<00:00,  1.87it/s]\n",
      "100%|██████████| 11/11 [00:02<00:00,  4.86it/s]\n",
      "  0%|          | 0/43 [00:00<?, ?it/s]"
     ]
    },
    {
     "name": "stdout",
     "output_type": "stream",
     "text": [
      "val_f1 : 0.940058928088102 val_acc : 0.9441176470588235 train_loss : 0.582105027381764 valid_loss : 0.45979937369173224\n",
      "Epoch: 17\n"
     ]
    },
    {
     "name": "stderr",
     "output_type": "stream",
     "text": [
      "100%|██████████| 43/43 [00:22<00:00,  1.89it/s]\n",
      "100%|██████████| 11/11 [00:02<00:00,  4.93it/s]\n"
     ]
    },
    {
     "name": "stdout",
     "output_type": "stream",
     "text": [
      "val_f1 : 0.9426392425105217 val_acc : 0.9470588235294117 train_loss : 0.5379457556924154 valid_loss : 0.4221829812635075\n"
     ]
    },
    {
     "name": "stderr",
     "output_type": "stream",
     "text": [
      "\r",
      "  0%|          | 0/43 [00:00<?, ?it/s]"
     ]
    },
    {
     "name": "stdout",
     "output_type": "stream",
     "text": [
      "Epoch: 18\n"
     ]
    },
    {
     "name": "stderr",
     "output_type": "stream",
     "text": [
      "100%|██████████| 43/43 [00:22<00:00,  1.88it/s]\n",
      "100%|██████████| 11/11 [00:02<00:00,  4.92it/s]\n"
     ]
    },
    {
     "name": "stdout",
     "output_type": "stream",
     "text": [
      "val_f1 : 0.943067475943978 val_acc : 0.9470588235294117 train_loss : 0.5089125265908796 valid_loss : 0.38865830410610547\n"
     ]
    },
    {
     "name": "stderr",
     "output_type": "stream",
     "text": [
      "\r",
      "  0%|          | 0/43 [00:00<?, ?it/s]"
     ]
    },
    {
     "name": "stdout",
     "output_type": "stream",
     "text": [
      "Epoch: 19\n"
     ]
    },
    {
     "name": "stderr",
     "output_type": "stream",
     "text": [
      "100%|██████████| 43/43 [00:22<00:00,  1.90it/s]\n",
      "100%|██████████| 11/11 [00:02<00:00,  4.91it/s]\n"
     ]
    },
    {
     "name": "stdout",
     "output_type": "stream",
     "text": [
      "val_f1 : 0.9472573670632107 val_acc : 0.95 train_loss : 0.475009445534196 valid_loss : 0.36028899387879804\n"
     ]
    },
    {
     "name": "stderr",
     "output_type": "stream",
     "text": [
      "\r",
      "  0%|          | 0/43 [00:00<?, ?it/s]"
     ]
    },
    {
     "name": "stdout",
     "output_type": "stream",
     "text": [
      "Epoch: 20\n"
     ]
    },
    {
     "name": "stderr",
     "output_type": "stream",
     "text": [
      "100%|██████████| 43/43 [00:22<00:00,  1.90it/s]\n",
      "100%|██████████| 11/11 [00:02<00:00,  4.85it/s]\n",
      "  0%|          | 0/43 [00:00<?, ?it/s]"
     ]
    },
    {
     "name": "stdout",
     "output_type": "stream",
     "text": [
      "val_f1 : 0.9450168174009442 val_acc : 0.95 train_loss : 0.46856560402138286 valid_loss : 0.3352240147915753\n",
      "Epoch: 21\n"
     ]
    },
    {
     "name": "stderr",
     "output_type": "stream",
     "text": [
      "100%|██████████| 43/43 [00:22<00:00,  1.90it/s]\n",
      "100%|██████████| 11/11 [00:02<00:00,  4.91it/s]\n"
     ]
    },
    {
     "name": "stdout",
     "output_type": "stream",
     "text": [
      "val_f1 : 0.9481004920346832 val_acc : 0.9529411764705882 train_loss : 0.4130335204129995 valid_loss : 0.3151632113890214\n"
     ]
    },
    {
     "name": "stderr",
     "output_type": "stream",
     "text": [
      "\r",
      "  0%|          | 0/43 [00:00<?, ?it/s]"
     ]
    },
    {
     "name": "stdout",
     "output_type": "stream",
     "text": [
      "Epoch: 22\n"
     ]
    },
    {
     "name": "stderr",
     "output_type": "stream",
     "text": [
      "100%|██████████| 43/43 [00:22<00:00,  1.90it/s]\n",
      "100%|██████████| 11/11 [00:02<00:00,  4.87it/s]\n"
     ]
    },
    {
     "name": "stdout",
     "output_type": "stream",
     "text": [
      "val_f1 : 0.9493705099550687 val_acc : 0.9529411764705882 train_loss : 0.40922889529272566 valid_loss : 0.2954445393248038\n"
     ]
    },
    {
     "name": "stderr",
     "output_type": "stream",
     "text": [
      "\r",
      "  0%|          | 0/43 [00:00<?, ?it/s]"
     ]
    },
    {
     "name": "stdout",
     "output_type": "stream",
     "text": [
      "Epoch: 23\n"
     ]
    },
    {
     "name": "stderr",
     "output_type": "stream",
     "text": [
      "100%|██████████| 43/43 [00:22<00:00,  1.90it/s]\n",
      "100%|██████████| 11/11 [00:02<00:00,  4.86it/s]\n",
      "  0%|          | 0/43 [00:00<?, ?it/s]"
     ]
    },
    {
     "name": "stdout",
     "output_type": "stream",
     "text": [
      "val_f1 : 0.9488076292395162 val_acc : 0.9529411764705882 train_loss : 0.36658666577450066 valid_loss : 0.2773144692182541\n",
      "Epoch: 24\n"
     ]
    },
    {
     "name": "stderr",
     "output_type": "stream",
     "text": [
      "100%|██████████| 43/43 [00:22<00:00,  1.91it/s]\n",
      "100%|██████████| 11/11 [00:02<00:00,  4.89it/s]\n"
     ]
    },
    {
     "name": "stdout",
     "output_type": "stream",
     "text": [
      "val_f1 : 0.9573146986142522 val_acc : 0.9588235294117647 train_loss : 0.3706208706595177 valid_loss : 0.2613995928655971\n"
     ]
    },
    {
     "name": "stderr",
     "output_type": "stream",
     "text": [
      "\r",
      "  0%|          | 0/43 [00:00<?, ?it/s]"
     ]
    },
    {
     "name": "stdout",
     "output_type": "stream",
     "text": [
      "Epoch: 25\n"
     ]
    },
    {
     "name": "stderr",
     "output_type": "stream",
     "text": [
      "100%|██████████| 43/43 [00:22<00:00,  1.89it/s]\n",
      "100%|██████████| 11/11 [00:02<00:00,  4.96it/s]\n",
      "  0%|          | 0/43 [00:00<?, ?it/s]"
     ]
    },
    {
     "name": "stdout",
     "output_type": "stream",
     "text": [
      "val_f1 : 0.9573146986142522 val_acc : 0.9588235294117647 train_loss : 0.3473387086807295 valid_loss : 0.24878558313304727\n",
      "Epoch: 26\n"
     ]
    },
    {
     "name": "stderr",
     "output_type": "stream",
     "text": [
      "100%|██████████| 43/43 [00:22<00:00,  1.91it/s]\n",
      "100%|██████████| 11/11 [00:02<00:00,  4.91it/s]\n",
      "  0%|          | 0/43 [00:00<?, ?it/s]"
     ]
    },
    {
     "name": "stdout",
     "output_type": "stream",
     "text": [
      "val_f1 : 0.9573146986142522 val_acc : 0.9588235294117647 train_loss : 0.2917874004951743 valid_loss : 0.23512437330050903\n",
      "Epoch: 27\n"
     ]
    },
    {
     "name": "stderr",
     "output_type": "stream",
     "text": [
      "100%|██████████| 43/43 [00:22<00:00,  1.90it/s]\n",
      "100%|██████████| 11/11 [00:02<00:00,  4.82it/s]\n"
     ]
    },
    {
     "name": "stdout",
     "output_type": "stream",
     "text": [
      "val_f1 : 0.9573146986142522 val_acc : 0.9588235294117647 train_loss : 0.30962372813806976 valid_loss : 0.22736110944639554\n",
      "Early Stop: 27\n"
     ]
    },
    {
     "name": "stderr",
     "output_type": "stream",
     "text": [
      "100%|██████████| 22/22 [00:02<00:00,  9.04it/s]\n"
     ]
    },
    {
     "name": "stdout",
     "output_type": "stream",
     "text": [
      "cuda\n",
      "Loaded pretrained weights for efficientnet-b3\n"
     ]
    },
    {
     "name": "stderr",
     "output_type": "stream",
     "text": [
      "\r",
      "  0%|          | 0/43 [00:00<?, ?it/s]"
     ]
    },
    {
     "name": "stdout",
     "output_type": "stream",
     "text": [
      "Epoch: 0\n"
     ]
    },
    {
     "name": "stderr",
     "output_type": "stream",
     "text": [
      "100%|██████████| 43/43 [00:22<00:00,  1.90it/s]\n",
      "100%|██████████| 11/11 [00:02<00:00,  4.90it/s]\n"
     ]
    },
    {
     "name": "stdout",
     "output_type": "stream",
     "text": [
      "val_f1 : 0.24886861611140046 val_acc : 0.26253687315634217 train_loss : 1.9470933010411817 valid_loss : 1.892818201671947\n"
     ]
    },
    {
     "name": "stderr",
     "output_type": "stream",
     "text": [
      "\r",
      "  0%|          | 0/43 [00:00<?, ?it/s]"
     ]
    },
    {
     "name": "stdout",
     "output_type": "stream",
     "text": [
      "Epoch: 1\n"
     ]
    },
    {
     "name": "stderr",
     "output_type": "stream",
     "text": [
      "100%|██████████| 43/43 [00:22<00:00,  1.89it/s]\n",
      "100%|██████████| 11/11 [00:02<00:00,  4.88it/s]\n"
     ]
    },
    {
     "name": "stdout",
     "output_type": "stream",
     "text": [
      "val_f1 : 0.41659589737622166 val_acc : 0.44542772861356933 train_loss : 1.876974995746169 valid_loss : 1.8161514780738137\n"
     ]
    },
    {
     "name": "stderr",
     "output_type": "stream",
     "text": [
      "\r",
      "  0%|          | 0/43 [00:00<?, ?it/s]"
     ]
    },
    {
     "name": "stdout",
     "output_type": "stream",
     "text": [
      "Epoch: 2\n"
     ]
    },
    {
     "name": "stderr",
     "output_type": "stream",
     "text": [
      "100%|██████████| 43/43 [00:22<00:00,  1.89it/s]\n",
      "100%|██████████| 11/11 [00:02<00:00,  4.91it/s]\n"
     ]
    },
    {
     "name": "stdout",
     "output_type": "stream",
     "text": [
      "val_f1 : 0.5111442667606262 val_acc : 0.5457227138643068 train_loss : 1.8001402117485223 valid_loss : 1.7414249615235762\n"
     ]
    },
    {
     "name": "stderr",
     "output_type": "stream",
     "text": [
      "\r",
      "  0%|          | 0/43 [00:00<?, ?it/s]"
     ]
    },
    {
     "name": "stdout",
     "output_type": "stream",
     "text": [
      "Epoch: 3\n"
     ]
    },
    {
     "name": "stderr",
     "output_type": "stream",
     "text": [
      "100%|██████████| 43/43 [00:22<00:00,  1.88it/s]\n",
      "100%|██████████| 11/11 [00:02<00:00,  4.91it/s]\n"
     ]
    },
    {
     "name": "stdout",
     "output_type": "stream",
     "text": [
      "val_f1 : 0.5997255309840245 val_acc : 0.6371681415929203 train_loss : 1.731402732605158 valid_loss : 1.6598288796164773\n"
     ]
    },
    {
     "name": "stderr",
     "output_type": "stream",
     "text": [
      "\r",
      "  0%|          | 0/43 [00:00<?, ?it/s]"
     ]
    },
    {
     "name": "stdout",
     "output_type": "stream",
     "text": [
      "Epoch: 4\n"
     ]
    },
    {
     "name": "stderr",
     "output_type": "stream",
     "text": [
      "100%|██████████| 43/43 [00:22<00:00,  1.87it/s]\n",
      "100%|██████████| 11/11 [00:02<00:00,  4.81it/s]\n"
     ]
    },
    {
     "name": "stdout",
     "output_type": "stream",
     "text": [
      "val_f1 : 0.6868330626813792 val_acc : 0.7138643067846607 train_loss : 1.6410099933313769 valid_loss : 1.570497902956876\n"
     ]
    },
    {
     "name": "stderr",
     "output_type": "stream",
     "text": [
      "\r",
      "  0%|          | 0/43 [00:00<?, ?it/s]"
     ]
    },
    {
     "name": "stdout",
     "output_type": "stream",
     "text": [
      "Epoch: 5\n"
     ]
    },
    {
     "name": "stderr",
     "output_type": "stream",
     "text": [
      "100%|██████████| 43/43 [00:22<00:00,  1.89it/s]\n",
      "100%|██████████| 11/11 [00:02<00:00,  4.90it/s]\n"
     ]
    },
    {
     "name": "stdout",
     "output_type": "stream",
     "text": [
      "val_f1 : 0.7748865872805932 val_acc : 0.8023598820058997 train_loss : 1.5479446400043577 valid_loss : 1.4677730907093396\n"
     ]
    },
    {
     "name": "stderr",
     "output_type": "stream",
     "text": [
      "\r",
      "  0%|          | 0/43 [00:00<?, ?it/s]"
     ]
    },
    {
     "name": "stdout",
     "output_type": "stream",
     "text": [
      "Epoch: 6\n"
     ]
    },
    {
     "name": "stderr",
     "output_type": "stream",
     "text": [
      "100%|██████████| 43/43 [00:23<00:00,  1.87it/s]\n",
      "100%|██████████| 11/11 [00:02<00:00,  4.86it/s]\n"
     ]
    },
    {
     "name": "stdout",
     "output_type": "stream",
     "text": [
      "val_f1 : 0.822145879094018 val_acc : 0.8436578171091446 train_loss : 1.4591062207554661 valid_loss : 1.350462550466711\n"
     ]
    },
    {
     "name": "stderr",
     "output_type": "stream",
     "text": [
      "\r",
      "  0%|          | 0/43 [00:00<?, ?it/s]"
     ]
    },
    {
     "name": "stdout",
     "output_type": "stream",
     "text": [
      "Epoch: 7\n"
     ]
    },
    {
     "name": "stderr",
     "output_type": "stream",
     "text": [
      "100%|██████████| 43/43 [00:22<00:00,  1.90it/s]\n",
      "100%|██████████| 11/11 [00:02<00:00,  4.92it/s]\n"
     ]
    },
    {
     "name": "stdout",
     "output_type": "stream",
     "text": [
      "val_f1 : 0.832787750945149 val_acc : 0.8525073746312685 train_loss : 1.361512300580047 valid_loss : 1.2236982800743796\n"
     ]
    },
    {
     "name": "stderr",
     "output_type": "stream",
     "text": [
      "\r",
      "  0%|          | 0/43 [00:00<?, ?it/s]"
     ]
    },
    {
     "name": "stdout",
     "output_type": "stream",
     "text": [
      "Epoch: 8\n"
     ]
    },
    {
     "name": "stderr",
     "output_type": "stream",
     "text": [
      "100%|██████████| 43/43 [00:22<00:00,  1.88it/s]\n",
      "100%|██████████| 11/11 [00:02<00:00,  4.78it/s]\n"
     ]
    },
    {
     "name": "stdout",
     "output_type": "stream",
     "text": [
      "val_f1 : 0.8562363094900142 val_acc : 0.8731563421828908 train_loss : 1.226814441902693 valid_loss : 1.093792275948958\n"
     ]
    },
    {
     "name": "stderr",
     "output_type": "stream",
     "text": [
      "\r",
      "  0%|          | 0/43 [00:00<?, ?it/s]"
     ]
    },
    {
     "name": "stdout",
     "output_type": "stream",
     "text": [
      "Epoch: 9\n"
     ]
    },
    {
     "name": "stderr",
     "output_type": "stream",
     "text": [
      "100%|██████████| 43/43 [00:22<00:00,  1.89it/s]\n",
      "100%|██████████| 11/11 [00:02<00:00,  4.90it/s]\n"
     ]
    },
    {
     "name": "stdout",
     "output_type": "stream",
     "text": [
      "val_f1 : 0.8876653760137794 val_acc : 0.8967551622418879 train_loss : 1.135012851204983 valid_loss : 0.9700882136821747\n"
     ]
    },
    {
     "name": "stderr",
     "output_type": "stream",
     "text": [
      "\r",
      "  0%|          | 0/43 [00:00<?, ?it/s]"
     ]
    },
    {
     "name": "stdout",
     "output_type": "stream",
     "text": [
      "Epoch: 10\n"
     ]
    },
    {
     "name": "stderr",
     "output_type": "stream",
     "text": [
      "100%|██████████| 43/43 [00:22<00:00,  1.90it/s]\n",
      "100%|██████████| 11/11 [00:02<00:00,  4.91it/s]\n"
     ]
    },
    {
     "name": "stdout",
     "output_type": "stream",
     "text": [
      "val_f1 : 0.8952477636315865 val_acc : 0.9026548672566371 train_loss : 1.0254679876704549 valid_loss : 0.8612474419853904\n"
     ]
    },
    {
     "name": "stderr",
     "output_type": "stream",
     "text": [
      "\r",
      "  0%|          | 0/43 [00:00<?, ?it/s]"
     ]
    },
    {
     "name": "stdout",
     "output_type": "stream",
     "text": [
      "Epoch: 11\n"
     ]
    },
    {
     "name": "stderr",
     "output_type": "stream",
     "text": [
      "100%|██████████| 43/43 [00:22<00:00,  1.88it/s]\n",
      "100%|██████████| 11/11 [00:02<00:00,  4.89it/s]\n"
     ]
    },
    {
     "name": "stdout",
     "output_type": "stream",
     "text": [
      "val_f1 : 0.911405007359213 val_acc : 0.9174041297935103 train_loss : 0.9343101382255554 valid_loss : 0.7607344172217629\n"
     ]
    },
    {
     "name": "stderr",
     "output_type": "stream",
     "text": [
      "\r",
      "  0%|          | 0/43 [00:00<?, ?it/s]"
     ]
    },
    {
     "name": "stdout",
     "output_type": "stream",
     "text": [
      "Epoch: 12\n"
     ]
    },
    {
     "name": "stderr",
     "output_type": "stream",
     "text": [
      "100%|██████████| 43/43 [00:22<00:00,  1.89it/s]\n",
      "100%|██████████| 11/11 [00:02<00:00,  4.89it/s]\n"
     ]
    },
    {
     "name": "stdout",
     "output_type": "stream",
     "text": [
      "val_f1 : 0.9163720863442419 val_acc : 0.9233038348082596 train_loss : 0.850059708883596 valid_loss : 0.6802114925601266\n"
     ]
    },
    {
     "name": "stderr",
     "output_type": "stream",
     "text": [
      "\r",
      "  0%|          | 0/43 [00:00<?, ?it/s]"
     ]
    },
    {
     "name": "stdout",
     "output_type": "stream",
     "text": [
      "Epoch: 13\n"
     ]
    },
    {
     "name": "stderr",
     "output_type": "stream",
     "text": [
      "100%|██████████| 43/43 [00:22<00:00,  1.89it/s]\n",
      "100%|██████████| 11/11 [00:02<00:00,  4.91it/s]\n"
     ]
    },
    {
     "name": "stdout",
     "output_type": "stream",
     "text": [
      "val_f1 : 0.9169307858587405 val_acc : 0.9233038348082596 train_loss : 0.7787537048029345 valid_loss : 0.6075133234262466\n"
     ]
    },
    {
     "name": "stderr",
     "output_type": "stream",
     "text": [
      "\r",
      "  0%|          | 0/43 [00:00<?, ?it/s]"
     ]
    },
    {
     "name": "stdout",
     "output_type": "stream",
     "text": [
      "Epoch: 14\n"
     ]
    },
    {
     "name": "stderr",
     "output_type": "stream",
     "text": [
      "100%|██████████| 43/43 [00:22<00:00,  1.88it/s]\n",
      "100%|██████████| 11/11 [00:02<00:00,  4.87it/s]\n"
     ]
    },
    {
     "name": "stdout",
     "output_type": "stream",
     "text": [
      "val_f1 : 0.917798787512847 val_acc : 0.9233038348082596 train_loss : 0.7230551450751549 valid_loss : 0.5507877956737172\n"
     ]
    },
    {
     "name": "stderr",
     "output_type": "stream",
     "text": [
      "\r",
      "  0%|          | 0/43 [00:00<?, ?it/s]"
     ]
    },
    {
     "name": "stdout",
     "output_type": "stream",
     "text": [
      "Epoch: 15\n"
     ]
    },
    {
     "name": "stderr",
     "output_type": "stream",
     "text": [
      "100%|██████████| 43/43 [00:22<00:00,  1.89it/s]\n",
      "100%|██████████| 11/11 [00:02<00:00,  4.92it/s]\n"
     ]
    },
    {
     "name": "stdout",
     "output_type": "stream",
     "text": [
      "val_f1 : 0.9191398363800273 val_acc : 0.9262536873156342 train_loss : 0.6661929363428161 valid_loss : 0.5023552978580649\n"
     ]
    },
    {
     "name": "stderr",
     "output_type": "stream",
     "text": [
      "\r",
      "  0%|          | 0/43 [00:00<?, ?it/s]"
     ]
    },
    {
     "name": "stdout",
     "output_type": "stream",
     "text": [
      "Epoch: 16\n"
     ]
    },
    {
     "name": "stderr",
     "output_type": "stream",
     "text": [
      "100%|██████████| 43/43 [00:22<00:00,  1.91it/s]\n",
      "100%|██████████| 11/11 [00:02<00:00,  4.91it/s]\n"
     ]
    },
    {
     "name": "stdout",
     "output_type": "stream",
     "text": [
      "val_f1 : 0.9221684678817859 val_acc : 0.9292035398230089 train_loss : 0.5825946532016577 valid_loss : 0.4593985019759698\n"
     ]
    },
    {
     "name": "stderr",
     "output_type": "stream",
     "text": [
      "\r",
      "  0%|          | 0/43 [00:00<?, ?it/s]"
     ]
    },
    {
     "name": "stdout",
     "output_type": "stream",
     "text": [
      "Epoch: 17\n"
     ]
    },
    {
     "name": "stderr",
     "output_type": "stream",
     "text": [
      "100%|██████████| 43/43 [00:22<00:00,  1.88it/s]\n",
      "100%|██████████| 11/11 [00:02<00:00,  4.90it/s]\n"
     ]
    },
    {
     "name": "stdout",
     "output_type": "stream",
     "text": [
      "val_f1 : 0.9261092641560581 val_acc : 0.9321533923303835 train_loss : 0.5298013250495113 valid_loss : 0.4214679002761841\n"
     ]
    },
    {
     "name": "stderr",
     "output_type": "stream",
     "text": [
      "\r",
      "  0%|          | 0/43 [00:00<?, ?it/s]"
     ]
    },
    {
     "name": "stdout",
     "output_type": "stream",
     "text": [
      "Epoch: 18\n"
     ]
    },
    {
     "name": "stderr",
     "output_type": "stream",
     "text": [
      "100%|██████████| 43/43 [00:22<00:00,  1.89it/s]\n",
      "100%|██████████| 11/11 [00:02<00:00,  4.80it/s]\n"
     ]
    },
    {
     "name": "stdout",
     "output_type": "stream",
     "text": [
      "val_f1 : 0.9321828362019376 val_acc : 0.9380530973451328 train_loss : 0.52210095247557 valid_loss : 0.39147316122596915\n"
     ]
    },
    {
     "name": "stderr",
     "output_type": "stream",
     "text": [
      "\r",
      "  0%|          | 0/43 [00:00<?, ?it/s]"
     ]
    },
    {
     "name": "stdout",
     "output_type": "stream",
     "text": [
      "Epoch: 19\n"
     ]
    },
    {
     "name": "stderr",
     "output_type": "stream",
     "text": [
      "100%|██████████| 43/43 [00:22<00:00,  1.89it/s]\n",
      "100%|██████████| 11/11 [00:02<00:00,  4.88it/s]\n",
      "  0%|          | 0/43 [00:00<?, ?it/s]"
     ]
    },
    {
     "name": "stdout",
     "output_type": "stream",
     "text": [
      "val_f1 : 0.9316545629056326 val_acc : 0.9380530973451328 train_loss : 0.48000034066133723 valid_loss : 0.3651088171384551\n",
      "Epoch: 20\n"
     ]
    },
    {
     "name": "stderr",
     "output_type": "stream",
     "text": [
      "100%|██████████| 43/43 [00:22<00:00,  1.89it/s]\n",
      "100%|██████████| 11/11 [00:02<00:00,  4.88it/s]\n"
     ]
    },
    {
     "name": "stdout",
     "output_type": "stream",
     "text": [
      "val_f1 : 0.9405164746551301 val_acc : 0.943952802359882 train_loss : 0.4370464540498201 valid_loss : 0.3386486910960891\n"
     ]
    },
    {
     "name": "stderr",
     "output_type": "stream",
     "text": [
      "\r",
      "  0%|          | 0/43 [00:00<?, ?it/s]"
     ]
    },
    {
     "name": "stdout",
     "output_type": "stream",
     "text": [
      "Epoch: 21\n"
     ]
    },
    {
     "name": "stderr",
     "output_type": "stream",
     "text": [
      "100%|██████████| 43/43 [00:22<00:00,  1.88it/s]\n",
      "100%|██████████| 11/11 [00:02<00:00,  4.89it/s]\n"
     ]
    },
    {
     "name": "stdout",
     "output_type": "stream",
     "text": [
      "val_f1 : 0.9471568971062287 val_acc : 0.9498525073746312 train_loss : 0.41442145233930544 valid_loss : 0.3176204829730771\n"
     ]
    },
    {
     "name": "stderr",
     "output_type": "stream",
     "text": [
      "\r",
      "  0%|          | 0/43 [00:00<?, ?it/s]"
     ]
    },
    {
     "name": "stdout",
     "output_type": "stream",
     "text": [
      "Epoch: 22\n"
     ]
    },
    {
     "name": "stderr",
     "output_type": "stream",
     "text": [
      "100%|██████████| 43/43 [00:22<00:00,  1.90it/s]\n",
      "100%|██████████| 11/11 [00:02<00:00,  4.88it/s]\n",
      "  0%|          | 0/43 [00:00<?, ?it/s]"
     ]
    },
    {
     "name": "stdout",
     "output_type": "stream",
     "text": [
      "val_f1 : 0.9410937609913309 val_acc : 0.943952802359882 train_loss : 0.3803380114394565 valid_loss : 0.29837778820232913\n",
      "Epoch: 23\n"
     ]
    },
    {
     "name": "stderr",
     "output_type": "stream",
     "text": [
      "100%|██████████| 43/43 [00:22<00:00,  1.90it/s]\n",
      "100%|██████████| 11/11 [00:02<00:00,  4.83it/s]\n",
      "  0%|          | 0/43 [00:00<?, ?it/s]"
     ]
    },
    {
     "name": "stdout",
     "output_type": "stream",
     "text": [
      "val_f1 : 0.9406202404741907 val_acc : 0.943952802359882 train_loss : 0.3692222684621811 valid_loss : 0.2836721485311335\n",
      "Epoch: 24\n"
     ]
    },
    {
     "name": "stderr",
     "output_type": "stream",
     "text": [
      "100%|██████████| 43/43 [00:22<00:00,  1.89it/s]\n",
      "100%|██████████| 11/11 [00:02<00:00,  4.86it/s]\n"
     ]
    },
    {
     "name": "stdout",
     "output_type": "stream",
     "text": [
      "val_f1 : 0.9505495243794531 val_acc : 0.9528023598820059 train_loss : 0.3513197992430177 valid_loss : 0.2712089287286455\n"
     ]
    },
    {
     "name": "stderr",
     "output_type": "stream",
     "text": [
      "\r",
      "  0%|          | 0/43 [00:00<?, ?it/s]"
     ]
    },
    {
     "name": "stdout",
     "output_type": "stream",
     "text": [
      "Epoch: 25\n"
     ]
    },
    {
     "name": "stderr",
     "output_type": "stream",
     "text": [
      "100%|██████████| 43/43 [00:22<00:00,  1.89it/s]\n",
      "100%|██████████| 11/11 [00:02<00:00,  4.82it/s]\n",
      "  0%|          | 0/43 [00:00<?, ?it/s]"
     ]
    },
    {
     "name": "stdout",
     "output_type": "stream",
     "text": [
      "val_f1 : 0.9472464092750956 val_acc : 0.9498525073746312 train_loss : 0.33091924668744555 valid_loss : 0.25790553946386685\n",
      "Epoch: 26\n"
     ]
    },
    {
     "name": "stderr",
     "output_type": "stream",
     "text": [
      "100%|██████████| 43/43 [00:22<00:00,  1.89it/s]\n",
      "100%|██████████| 11/11 [00:02<00:00,  4.81it/s]\n",
      "  0%|          | 0/43 [00:00<?, ?it/s]"
     ]
    },
    {
     "name": "stdout",
     "output_type": "stream",
     "text": [
      "val_f1 : 0.9438537820018713 val_acc : 0.9469026548672567 train_loss : 0.3335453909496928 valid_loss : 0.24633682349866087\n",
      "Epoch: 27\n"
     ]
    },
    {
     "name": "stderr",
     "output_type": "stream",
     "text": [
      "100%|██████████| 43/43 [00:22<00:00,  1.89it/s]\n",
      "100%|██████████| 11/11 [00:02<00:00,  4.86it/s]\n"
     ]
    },
    {
     "name": "stdout",
     "output_type": "stream",
     "text": [
      "val_f1 : 0.9438537820018713 val_acc : 0.9469026548672567 train_loss : 0.2902021927889003 valid_loss : 0.23595424030314793\n",
      "Early Stop: 27\n"
     ]
    },
    {
     "name": "stderr",
     "output_type": "stream",
     "text": [
      "100%|██████████| 22/22 [00:02<00:00,  8.96it/s]\n"
     ]
    },
    {
     "name": "stdout",
     "output_type": "stream",
     "text": [
      "cuda\n"
     ]
    },
    {
     "name": "stderr",
     "output_type": "stream",
     "text": [
      "\r",
      "  0%|          | 0/43 [00:00<?, ?it/s]"
     ]
    },
    {
     "name": "stdout",
     "output_type": "stream",
     "text": [
      "Loaded pretrained weights for efficientnet-b3\n",
      "Epoch: 0\n"
     ]
    },
    {
     "name": "stderr",
     "output_type": "stream",
     "text": [
      "100%|██████████| 43/43 [00:22<00:00,  1.89it/s]\n",
      "100%|██████████| 11/11 [00:02<00:00,  4.89it/s]\n"
     ]
    },
    {
     "name": "stdout",
     "output_type": "stream",
     "text": [
      "val_f1 : 0.25423623227417275 val_acc : 0.25958702064896755 train_loss : 1.9591382076573927 valid_loss : 1.8933767405423252\n"
     ]
    },
    {
     "name": "stderr",
     "output_type": "stream",
     "text": [
      "\r",
      "  0%|          | 0/43 [00:00<?, ?it/s]"
     ]
    },
    {
     "name": "stdout",
     "output_type": "stream",
     "text": [
      "Epoch: 1\n"
     ]
    },
    {
     "name": "stderr",
     "output_type": "stream",
     "text": [
      "100%|██████████| 43/43 [00:22<00:00,  1.90it/s]\n",
      "100%|██████████| 11/11 [00:02<00:00,  4.88it/s]\n"
     ]
    },
    {
     "name": "stdout",
     "output_type": "stream",
     "text": [
      "val_f1 : 0.42224210623257447 val_acc : 0.4336283185840708 train_loss : 1.8716123325880183 valid_loss : 1.804104577411305\n"
     ]
    },
    {
     "name": "stderr",
     "output_type": "stream",
     "text": [
      "\r",
      "  0%|          | 0/43 [00:00<?, ?it/s]"
     ]
    },
    {
     "name": "stdout",
     "output_type": "stream",
     "text": [
      "Epoch: 2\n"
     ]
    },
    {
     "name": "stderr",
     "output_type": "stream",
     "text": [
      "100%|██████████| 43/43 [00:22<00:00,  1.89it/s]\n",
      "100%|██████████| 11/11 [00:02<00:00,  4.87it/s]\n"
     ]
    },
    {
     "name": "stdout",
     "output_type": "stream",
     "text": [
      "val_f1 : 0.5959191473153791 val_acc : 0.6047197640117994 train_loss : 1.7967267895853796 valid_loss : 1.716358488256281\n"
     ]
    },
    {
     "name": "stderr",
     "output_type": "stream",
     "text": [
      "\r",
      "  0%|          | 0/43 [00:00<?, ?it/s]"
     ]
    },
    {
     "name": "stdout",
     "output_type": "stream",
     "text": [
      "Epoch: 3\n"
     ]
    },
    {
     "name": "stderr",
     "output_type": "stream",
     "text": [
      "100%|██████████| 43/43 [00:22<00:00,  1.88it/s]\n",
      "100%|██████████| 11/11 [00:02<00:00,  4.94it/s]\n"
     ]
    },
    {
     "name": "stdout",
     "output_type": "stream",
     "text": [
      "val_f1 : 0.7127207972382161 val_acc : 0.7227138643067846 train_loss : 1.7190795166547908 valid_loss : 1.6272556239908391\n"
     ]
    },
    {
     "name": "stderr",
     "output_type": "stream",
     "text": [
      "\r",
      "  0%|          | 0/43 [00:00<?, ?it/s]"
     ]
    },
    {
     "name": "stdout",
     "output_type": "stream",
     "text": [
      "Epoch: 4\n"
     ]
    },
    {
     "name": "stderr",
     "output_type": "stream",
     "text": [
      "100%|██████████| 43/43 [00:22<00:00,  1.89it/s]\n",
      "100%|██████████| 11/11 [00:02<00:00,  4.85it/s]\n"
     ]
    },
    {
     "name": "stdout",
     "output_type": "stream",
     "text": [
      "val_f1 : 0.7684037001101303 val_acc : 0.7787610619469026 train_loss : 1.6219408373500026 valid_loss : 1.5312906828793613\n"
     ]
    },
    {
     "name": "stderr",
     "output_type": "stream",
     "text": [
      "\r",
      "  0%|          | 0/43 [00:00<?, ?it/s]"
     ]
    },
    {
     "name": "stdout",
     "output_type": "stream",
     "text": [
      "Epoch: 5\n"
     ]
    },
    {
     "name": "stderr",
     "output_type": "stream",
     "text": [
      "100%|██████████| 43/43 [00:22<00:00,  1.89it/s]\n",
      "100%|██████████| 11/11 [00:02<00:00,  4.89it/s]\n"
     ]
    },
    {
     "name": "stdout",
     "output_type": "stream",
     "text": [
      "val_f1 : 0.7992946846277574 val_acc : 0.8082595870206489 train_loss : 1.5396013842072598 valid_loss : 1.4243537458506497\n"
     ]
    },
    {
     "name": "stderr",
     "output_type": "stream",
     "text": [
      "\r",
      "  0%|          | 0/43 [00:00<?, ?it/s]"
     ]
    },
    {
     "name": "stdout",
     "output_type": "stream",
     "text": [
      "Epoch: 6\n"
     ]
    },
    {
     "name": "stderr",
     "output_type": "stream",
     "text": [
      "100%|██████████| 43/43 [00:22<00:00,  1.88it/s]\n",
      "100%|██████████| 11/11 [00:02<00:00,  4.87it/s]\n"
     ]
    },
    {
     "name": "stdout",
     "output_type": "stream",
     "text": [
      "val_f1 : 0.8402434626587315 val_acc : 0.8466076696165191 train_loss : 1.4460755725239598 valid_loss : 1.3063293207775464\n"
     ]
    },
    {
     "name": "stderr",
     "output_type": "stream",
     "text": [
      "\r",
      "  0%|          | 0/43 [00:00<?, ?it/s]"
     ]
    },
    {
     "name": "stdout",
     "output_type": "stream",
     "text": [
      "Epoch: 7\n"
     ]
    },
    {
     "name": "stderr",
     "output_type": "stream",
     "text": [
      "100%|██████████| 43/43 [00:22<00:00,  1.90it/s]\n",
      "100%|██████████| 11/11 [00:02<00:00,  4.85it/s]\n"
     ]
    },
    {
     "name": "stdout",
     "output_type": "stream",
     "text": [
      "val_f1 : 0.8789322475740386 val_acc : 0.8790560471976401 train_loss : 1.3271228407704554 valid_loss : 1.1859728639776057\n"
     ]
    },
    {
     "name": "stderr",
     "output_type": "stream",
     "text": [
      "\r",
      "  0%|          | 0/43 [00:00<?, ?it/s]"
     ]
    },
    {
     "name": "stdout",
     "output_type": "stream",
     "text": [
      "Epoch: 8\n"
     ]
    },
    {
     "name": "stderr",
     "output_type": "stream",
     "text": [
      "100%|██████████| 43/43 [00:22<00:00,  1.88it/s]\n",
      "100%|██████████| 11/11 [00:02<00:00,  4.83it/s]\n"
     ]
    },
    {
     "name": "stdout",
     "output_type": "stream",
     "text": [
      "val_f1 : 0.895117291011769 val_acc : 0.8938053097345132 train_loss : 1.2197582749433296 valid_loss : 1.066941732710058\n"
     ]
    },
    {
     "name": "stderr",
     "output_type": "stream",
     "text": [
      "\r",
      "  0%|          | 0/43 [00:00<?, ?it/s]"
     ]
    },
    {
     "name": "stdout",
     "output_type": "stream",
     "text": [
      "Epoch: 9\n"
     ]
    },
    {
     "name": "stderr",
     "output_type": "stream",
     "text": [
      "100%|██████████| 43/43 [00:22<00:00,  1.89it/s]\n",
      "100%|██████████| 11/11 [00:02<00:00,  4.91it/s]\n"
     ]
    },
    {
     "name": "stdout",
     "output_type": "stream",
     "text": [
      "val_f1 : 0.9064964828025946 val_acc : 0.9085545722713865 train_loss : 1.115945530492206 valid_loss : 0.9552781581878662\n"
     ]
    },
    {
     "name": "stderr",
     "output_type": "stream",
     "text": [
      "\r",
      "  0%|          | 0/43 [00:00<?, ?it/s]"
     ]
    },
    {
     "name": "stdout",
     "output_type": "stream",
     "text": [
      "Epoch: 10\n"
     ]
    },
    {
     "name": "stderr",
     "output_type": "stream",
     "text": [
      "100%|██████████| 43/43 [00:22<00:00,  1.88it/s]\n",
      "100%|██████████| 11/11 [00:02<00:00,  4.83it/s]\n"
     ]
    },
    {
     "name": "stdout",
     "output_type": "stream",
     "text": [
      "val_f1 : 0.9199383257696928 val_acc : 0.9203539823008849 train_loss : 1.0278346885082335 valid_loss : 0.8513337414373051\n"
     ]
    },
    {
     "name": "stderr",
     "output_type": "stream",
     "text": [
      "\r",
      "  0%|          | 0/43 [00:00<?, ?it/s]"
     ]
    },
    {
     "name": "stdout",
     "output_type": "stream",
     "text": [
      "Epoch: 11\n"
     ]
    },
    {
     "name": "stderr",
     "output_type": "stream",
     "text": [
      "100%|██████████| 43/43 [00:22<00:00,  1.89it/s]\n",
      "100%|██████████| 11/11 [00:02<00:00,  4.83it/s]\n"
     ]
    },
    {
     "name": "stdout",
     "output_type": "stream",
     "text": [
      "val_f1 : 0.9219231909053408 val_acc : 0.9233038348082596 train_loss : 0.9313048664913621 valid_loss : 0.7563796707174995\n"
     ]
    },
    {
     "name": "stderr",
     "output_type": "stream",
     "text": [
      "\r",
      "  0%|          | 0/43 [00:00<?, ?it/s]"
     ]
    },
    {
     "name": "stdout",
     "output_type": "stream",
     "text": [
      "Epoch: 12\n"
     ]
    },
    {
     "name": "stderr",
     "output_type": "stream",
     "text": [
      "100%|██████████| 43/43 [00:22<00:00,  1.89it/s]\n",
      "100%|██████████| 11/11 [00:02<00:00,  4.90it/s]\n"
     ]
    },
    {
     "name": "stdout",
     "output_type": "stream",
     "text": [
      "val_f1 : 0.9231856934860927 val_acc : 0.9233038348082596 train_loss : 0.8361513198808183 valid_loss : 0.6769259450110522\n"
     ]
    },
    {
     "name": "stderr",
     "output_type": "stream",
     "text": [
      "\r",
      "  0%|          | 0/43 [00:00<?, ?it/s]"
     ]
    },
    {
     "name": "stdout",
     "output_type": "stream",
     "text": [
      "Epoch: 13\n"
     ]
    },
    {
     "name": "stderr",
     "output_type": "stream",
     "text": [
      "100%|██████████| 43/43 [00:22<00:00,  1.91it/s]\n",
      "100%|██████████| 11/11 [00:02<00:00,  4.87it/s]\n"
     ]
    },
    {
     "name": "stdout",
     "output_type": "stream",
     "text": [
      "val_f1 : 0.9326309914114791 val_acc : 0.9321533923303835 train_loss : 0.7923249006271362 valid_loss : 0.6078938665715131\n"
     ]
    },
    {
     "name": "stderr",
     "output_type": "stream",
     "text": [
      "\r",
      "  0%|          | 0/43 [00:00<?, ?it/s]"
     ]
    },
    {
     "name": "stdout",
     "output_type": "stream",
     "text": [
      "Epoch: 14\n"
     ]
    },
    {
     "name": "stderr",
     "output_type": "stream",
     "text": [
      "100%|██████████| 43/43 [00:22<00:00,  1.89it/s]\n",
      "100%|██████████| 11/11 [00:02<00:00,  4.88it/s]\n"
     ]
    },
    {
     "name": "stdout",
     "output_type": "stream",
     "text": [
      "val_f1 : 0.9463713703280826 val_acc : 0.943952802359882 train_loss : 0.7126686836397925 valid_loss : 0.5472461703148755\n"
     ]
    },
    {
     "name": "stderr",
     "output_type": "stream",
     "text": [
      "\r",
      "  0%|          | 0/43 [00:00<?, ?it/s]"
     ]
    },
    {
     "name": "stdout",
     "output_type": "stream",
     "text": [
      "Epoch: 15\n"
     ]
    },
    {
     "name": "stderr",
     "output_type": "stream",
     "text": [
      "100%|██████████| 43/43 [00:22<00:00,  1.88it/s]\n",
      "100%|██████████| 11/11 [00:02<00:00,  4.84it/s]\n"
     ]
    },
    {
     "name": "stdout",
     "output_type": "stream",
     "text": [
      "val_f1 : 0.9497707969588431 val_acc : 0.9469026548672567 train_loss : 0.6605039114175841 valid_loss : 0.49831983040679584\n"
     ]
    },
    {
     "name": "stderr",
     "output_type": "stream",
     "text": [
      "\r",
      "  0%|          | 0/43 [00:00<?, ?it/s]"
     ]
    },
    {
     "name": "stdout",
     "output_type": "stream",
     "text": [
      "Epoch: 16\n"
     ]
    },
    {
     "name": "stderr",
     "output_type": "stream",
     "text": [
      "100%|██████████| 43/43 [00:22<00:00,  1.89it/s]\n",
      "100%|██████████| 11/11 [00:02<00:00,  4.81it/s]\n"
     ]
    },
    {
     "name": "stdout",
     "output_type": "stream",
     "text": [
      "val_f1 : 0.9542106616798661 val_acc : 0.9498525073746312 train_loss : 0.5950474856897842 valid_loss : 0.45341782339594583\n"
     ]
    },
    {
     "name": "stderr",
     "output_type": "stream",
     "text": [
      "\r",
      "  0%|          | 0/43 [00:00<?, ?it/s]"
     ]
    },
    {
     "name": "stdout",
     "output_type": "stream",
     "text": [
      "Epoch: 17\n"
     ]
    },
    {
     "name": "stderr",
     "output_type": "stream",
     "text": [
      "100%|██████████| 43/43 [00:22<00:00,  1.89it/s]\n",
      "100%|██████████| 11/11 [00:02<00:00,  4.88it/s]\n",
      "  0%|          | 0/43 [00:00<?, ?it/s]"
     ]
    },
    {
     "name": "stdout",
     "output_type": "stream",
     "text": [
      "val_f1 : 0.9542106616798661 val_acc : 0.9498525073746312 train_loss : 0.5488708123218181 valid_loss : 0.4162346761335026\n",
      "Epoch: 18\n"
     ]
    },
    {
     "name": "stderr",
     "output_type": "stream",
     "text": [
      "100%|██████████| 43/43 [00:22<00:00,  1.90it/s]\n",
      "100%|██████████| 11/11 [00:02<00:00,  4.87it/s]\n"
     ]
    },
    {
     "name": "stdout",
     "output_type": "stream",
     "text": [
      "val_f1 : 0.9574271208494702 val_acc : 0.9528023598820059 train_loss : 0.509014765883601 valid_loss : 0.3808313899419524\n"
     ]
    },
    {
     "name": "stderr",
     "output_type": "stream",
     "text": [
      "\r",
      "  0%|          | 0/43 [00:00<?, ?it/s]"
     ]
    },
    {
     "name": "stdout",
     "output_type": "stream",
     "text": [
      "Epoch: 19\n"
     ]
    },
    {
     "name": "stderr",
     "output_type": "stream",
     "text": [
      "100%|██████████| 43/43 [00:22<00:00,  1.88it/s]\n",
      "100%|██████████| 11/11 [00:02<00:00,  4.89it/s]\n"
     ]
    },
    {
     "name": "stdout",
     "output_type": "stream",
     "text": [
      "val_f1 : 0.9593791526920541 val_acc : 0.9557522123893806 train_loss : 0.48822349448536717 valid_loss : 0.35275548561052844\n"
     ]
    },
    {
     "name": "stderr",
     "output_type": "stream",
     "text": [
      "\r",
      "  0%|          | 0/43 [00:00<?, ?it/s]"
     ]
    },
    {
     "name": "stdout",
     "output_type": "stream",
     "text": [
      "Epoch: 20\n"
     ]
    },
    {
     "name": "stderr",
     "output_type": "stream",
     "text": [
      "100%|██████████| 43/43 [00:22<00:00,  1.88it/s]\n",
      "100%|██████████| 11/11 [00:02<00:00,  4.88it/s]\n"
     ]
    },
    {
     "name": "stdout",
     "output_type": "stream",
     "text": [
      "val_f1 : 0.9620128592059887 val_acc : 0.9587020648967551 train_loss : 0.45666291478068327 valid_loss : 0.3268961540677331\n"
     ]
    },
    {
     "name": "stderr",
     "output_type": "stream",
     "text": [
      "\r",
      "  0%|          | 0/43 [00:00<?, ?it/s]"
     ]
    },
    {
     "name": "stdout",
     "output_type": "stream",
     "text": [
      "Epoch: 21\n"
     ]
    },
    {
     "name": "stderr",
     "output_type": "stream",
     "text": [
      "100%|██████████| 43/43 [00:22<00:00,  1.87it/s]\n",
      "100%|██████████| 11/11 [00:02<00:00,  4.77it/s]\n"
     ]
    },
    {
     "name": "stdout",
     "output_type": "stream",
     "text": [
      "val_f1 : 0.963018252224671 val_acc : 0.9616519174041298 train_loss : 0.4178716672021289 valid_loss : 0.30361352183602075\n"
     ]
    },
    {
     "name": "stderr",
     "output_type": "stream",
     "text": [
      "\r",
      "  0%|          | 0/43 [00:00<?, ?it/s]"
     ]
    },
    {
     "name": "stdout",
     "output_type": "stream",
     "text": [
      "Epoch: 22\n"
     ]
    },
    {
     "name": "stderr",
     "output_type": "stream",
     "text": [
      "100%|██████████| 43/43 [00:22<00:00,  1.89it/s]\n",
      "100%|██████████| 11/11 [00:02<00:00,  4.91it/s]\n"
     ]
    },
    {
     "name": "stdout",
     "output_type": "stream",
     "text": [
      "val_f1 : 0.9650586007163138 val_acc : 0.9646017699115044 train_loss : 0.4226924111676771 valid_loss : 0.2851432433182543\n"
     ]
    },
    {
     "name": "stderr",
     "output_type": "stream",
     "text": [
      "\r",
      "  0%|          | 0/43 [00:00<?, ?it/s]"
     ]
    },
    {
     "name": "stdout",
     "output_type": "stream",
     "text": [
      "Epoch: 23\n"
     ]
    },
    {
     "name": "stderr",
     "output_type": "stream",
     "text": [
      "100%|██████████| 43/43 [00:22<00:00,  1.90it/s]\n",
      "100%|██████████| 11/11 [00:02<00:00,  4.91it/s]\n"
     ]
    },
    {
     "name": "stdout",
     "output_type": "stream",
     "text": [
      "val_f1 : 0.9684761087269127 val_acc : 0.967551622418879 train_loss : 0.38174860144770423 valid_loss : 0.2681557515805418\n"
     ]
    },
    {
     "name": "stderr",
     "output_type": "stream",
     "text": [
      "\r",
      "  0%|          | 0/43 [00:00<?, ?it/s]"
     ]
    },
    {
     "name": "stdout",
     "output_type": "stream",
     "text": [
      "Epoch: 24\n"
     ]
    },
    {
     "name": "stderr",
     "output_type": "stream",
     "text": [
      "100%|██████████| 43/43 [00:22<00:00,  1.89it/s]\n",
      "100%|██████████| 11/11 [00:02<00:00,  4.89it/s]\n"
     ]
    },
    {
     "name": "stdout",
     "output_type": "stream",
     "text": [
      "val_f1 : 0.9736646526056937 val_acc : 0.9734513274336283 train_loss : 0.3286373535561007 valid_loss : 0.25176761231639166\n"
     ]
    },
    {
     "name": "stderr",
     "output_type": "stream",
     "text": [
      "\r",
      "  0%|          | 0/43 [00:00<?, ?it/s]"
     ]
    },
    {
     "name": "stdout",
     "output_type": "stream",
     "text": [
      "Epoch: 25\n"
     ]
    },
    {
     "name": "stderr",
     "output_type": "stream",
     "text": [
      "100%|██████████| 43/43 [00:22<00:00,  1.89it/s]\n",
      "100%|██████████| 11/11 [00:02<00:00,  4.87it/s]\n",
      "  0%|          | 0/43 [00:00<?, ?it/s]"
     ]
    },
    {
     "name": "stdout",
     "output_type": "stream",
     "text": [
      "val_f1 : 0.9736646526056937 val_acc : 0.9734513274336283 train_loss : 0.32756165467029397 valid_loss : 0.23608594150705772\n",
      "Epoch: 26\n"
     ]
    },
    {
     "name": "stderr",
     "output_type": "stream",
     "text": [
      "100%|██████████| 43/43 [00:22<00:00,  1.89it/s]\n",
      "100%|██████████| 11/11 [00:02<00:00,  4.85it/s]\n",
      "  0%|          | 0/43 [00:00<?, ?it/s]"
     ]
    },
    {
     "name": "stdout",
     "output_type": "stream",
     "text": [
      "val_f1 : 0.9702639217111085 val_acc : 0.9705014749262537 train_loss : 0.3268959698982017 valid_loss : 0.2238232164897702\n",
      "Epoch: 27\n"
     ]
    },
    {
     "name": "stderr",
     "output_type": "stream",
     "text": [
      "100%|██████████| 43/43 [00:22<00:00,  1.88it/s]\n",
      "100%|██████████| 11/11 [00:02<00:00,  4.65it/s]\n"
     ]
    },
    {
     "name": "stdout",
     "output_type": "stream",
     "text": [
      "val_f1 : 0.9702639217111085 val_acc : 0.9705014749262537 train_loss : 0.2948210939418438 valid_loss : 0.2124780568886887\n",
      "Early Stop: 27\n"
     ]
    },
    {
     "name": "stderr",
     "output_type": "stream",
     "text": [
      "100%|██████████| 22/22 [00:02<00:00,  8.89it/s]\n"
     ]
    }
   ],
   "source": [
    "all_logits = []\n",
    "\n",
    "\n",
    "for fold in range(5):\n",
    "    #dataloader\n",
    "    trn_idx = train[train['fold'] != fold].index\n",
    "    vld_idx = train[train['fold'] == fold].index\n",
    "    trn_dataset = ImageDataset(train.loc[trn_idx],\n",
    "                            'train')\n",
    "\n",
    "    vld_dataset =  ImageDataset(train.loc[vld_idx],\n",
    "                                'valid')\n",
    "    num_workers = 0\n",
    "    trn_loader = DataLoader(trn_dataset,\n",
    "                        shuffle = True,\n",
    "                        num_workers = num_workers,\n",
    "                        batch_size = 32)\n",
    "    vld_loader = DataLoader(vld_dataset,\n",
    "                        shuffle = False,\n",
    "                        num_workers = num_workers,\n",
    "                        batch_size = 32)\n",
    "\n",
    "\n",
    "    #model/optimizer/criterion\n",
    "    device = torch.device(\"cuda\" if torch.cuda.is_available() else \"cpu\")\n",
    "    print(device)\n",
    "\n",
    "    from efficientnet_pytorch import EfficientNet\n",
    "    model = EfficientNet.from_pretrained('efficientnet-b3')\n",
    "    input_size = model._fc.in_features\n",
    "    model._fc = nn.Linear(input_size,out_features = train.label.nunique(),bias = True)\n",
    "    model.to(device)\n",
    "    optimizer = torch.optim.Adam(model.parameters(), lr=0.00001)\n",
    "    #optimizer = AdamP(model.parameters(), lr=0.0000003, betas=(0.9, 0.999), weight_decay=1e-2)\n",
    "    #optimizer = AdamP(model.parameters(), lr=0.0001, betas=(0.9, 0.999), weight_decay=1e-2)\n",
    "\n",
    "    criterion = nn.CrossEntropyLoss()\n",
    "    #scheduler = torch.optim.lr_scheduler.StepLR(optimizer, step_size=5, gamma=0.1)\n",
    "\n",
    "\n",
    "\n",
    "    epochs = 30\n",
    "    best_score = 0 \n",
    "    cnt=0\n",
    "\n",
    "    for epoch in range(epochs):\n",
    "        print('Epoch:',epoch)\n",
    "        train_loss = []\n",
    "        model.train()\n",
    "        for inputs, targets in tqdm(trn_loader):\n",
    "            inputs = inputs.to(device)\n",
    "            targets = targets.to(device)\n",
    "            logits = model(inputs)\n",
    "            \n",
    "            loss = criterion(logits,targets)\n",
    "            loss.backward()\n",
    "\n",
    "            optimizer.step()\n",
    "            optimizer.zero_grad()\n",
    "            train_loss.append(loss.item())\n",
    "\n",
    "        val_loss = []\n",
    "        val_true = []\n",
    "        val_pred = []\n",
    "\n",
    "        model.eval()\n",
    "        \n",
    "\n",
    "        # gradient를 건들지 않겠다.\n",
    "        with torch.no_grad():\n",
    "            for inputs, targets in tqdm(vld_loader):\n",
    "            # gpu사용시\n",
    "                inputs = inputs.cuda()\n",
    "                targets = targets.cuda()\n",
    "                logits = model(inputs)\n",
    "\n",
    "                loss = criterion(logits,targets)\n",
    "                val_loss.append(loss.item())\n",
    "\n",
    "                pred =logits.cpu().argmax(dim=1).data.numpy()\n",
    "                \n",
    "                val_true.append(targets.cpu().numpy())\n",
    "                val_pred.append(pred)\n",
    "\n",
    "        val_true = np.concatenate(val_true)\n",
    "        val_pred = np.concatenate(val_pred)\n",
    "        val_loss = np.mean(val_loss)\n",
    "        train_loss = np.mean(train_loss)\n",
    "        \n",
    "        val_f1 = f1_score(val_true,val_pred,average = 'macro')\n",
    "        val_acc = accuracy_score(val_true,val_pred)\n",
    "        \n",
    "        print('val_f1 :',val_f1,'val_acc :',val_acc,'train_loss :',train_loss,'valid_loss :',val_loss)\n",
    "        \n",
    "\n",
    "        if val_f1 > best_score:\n",
    "            cnt=0\n",
    "            best_score = val_f1\n",
    "            best_model_weights = copy.deepcopy(model.state_dict())\n",
    "            torch.save(best_model_weights,'/content/drive/MyDrive/programmers/e3_fold'+str(fold)+'best.path')\n",
    "        \n",
    "        else:\n",
    "            cnt+=1\n",
    "            if cnt == 3:\n",
    "                print('Early Stop:',epoch)\n",
    "                break"
   ]
  },
  {
   "cell_type": "markdown",
   "id": "boolean-campus",
   "metadata": {
    "id": "p4nC12GKQCHh"
   },
   "source": [
    "## 6.Inference"
   ]
  },
  {
   "cell_type": "code",
   "execution_count": null,
   "id": "selected-assessment",
   "metadata": {
    "colab": {
     "base_uri": "https://localhost:8080/"
    },
    "executionInfo": {
     "elapsed": 13294,
     "status": "ok",
     "timestamp": 1621757107604,
     "user": {
      "displayName": "오세민",
      "photoUrl": "",
      "userId": "15789962604001692355"
     },
     "user_tz": -540
    },
    "id": "wTP5NgBnQAbS",
    "outputId": "1ace2d1f-8de6-4fb3-9a66-162f0fd10cdf"
   },
   "outputs": [
    {
     "name": "stderr",
     "output_type": "stream",
     "text": [
      "100%|██████████| 22/22 [00:02<00:00,  9.09it/s]\n",
      "100%|██████████| 22/22 [00:02<00:00,  9.20it/s]\n",
      "100%|██████████| 22/22 [00:02<00:00,  9.14it/s]\n",
      "100%|██████████| 22/22 [00:02<00:00,  9.23it/s]\n",
      "100%|██████████| 22/22 [00:02<00:00,  9.18it/s]\n"
     ]
    }
   ],
   "source": [
    "all_logits = []\n",
    "#inference\n",
    "for fold in range(5):\n",
    "    eval = test.sort_values(by = 'id')\n",
    "\n",
    "    tst_dataset = ImageDataset(eval,'inference')\n",
    "    tst_loader = DataLoader(tst_dataset,\n",
    "                        shuffle = False,\n",
    "                        num_workers = 0,\n",
    "                        batch_size = 16)\n",
    "\n",
    "    model.load_state_dict(torch.load('/content/drive/MyDrive/programmers/e3_fold'+str(fold)+'best.path'))\n",
    "    model.eval()\n",
    "    \n",
    "    predicts = []\n",
    "    with torch.no_grad():\n",
    "        for i, data in enumerate(tqdm(tst_loader)):\n",
    "            data = data.cuda()\n",
    "            logits = model(data).cpu().numpy()\n",
    "            \n",
    "            predicts.append(logits)\n",
    "    \n",
    "    predicts = list(np.concatenate(predicts))\n",
    "\n",
    "    all_logits.append(predicts)\n"
   ]
  },
  {
   "cell_type": "markdown",
   "id": "funded-dictionary",
   "metadata": {
    "id": "broadband-mountain"
   },
   "source": [
    "### 7. Ensemble"
   ]
  },
  {
   "cell_type": "code",
   "execution_count": null,
   "id": "southeast-matthew",
   "metadata": {
    "id": "5NU8AomRN4hw"
   },
   "outputs": [],
   "source": [
    "answer = np.array(all_logits[0])\n",
    "for i in range(1,5):\n",
    "    answer += np.array(all_logits[i])"
   ]
  },
  {
   "cell_type": "code",
   "execution_count": null,
   "id": "through-morris",
   "metadata": {
    "colab": {
     "base_uri": "https://localhost:8080/"
    },
    "executionInfo": {
     "elapsed": 7,
     "status": "ok",
     "timestamp": 1621757113846,
     "user": {
      "displayName": "오세민",
      "photoUrl": "",
      "userId": "15789962604001692355"
     },
     "user_tz": -540
    },
    "id": "i_zEpeN9N4du",
    "outputId": "917a3c1d-a685-4312-f4e6-d6352b305219"
   },
   "outputs": [
    {
     "data": {
      "text/plain": [
       "350"
      ]
     },
     "execution_count": 41,
     "metadata": {
      "tags": []
     },
     "output_type": "execute_result"
    }
   ],
   "source": [
    "len(answer)"
   ]
  },
  {
   "cell_type": "code",
   "execution_count": null,
   "id": "interested-dragon",
   "metadata": {
    "id": "F2Lhc6g5N4ao"
   },
   "outputs": [],
   "source": [
    "answer = answer.argmax(1)"
   ]
  },
  {
   "cell_type": "code",
   "execution_count": null,
   "id": "killing-damages",
   "metadata": {
    "id": "brief-portal"
   },
   "outputs": [],
   "source": [
    "sample_data = pd.read_csv('/content/drive/MyDrive/programmers/data/test_answer_sample.csv')\n",
    "sample_data['answer value'] = answer\n",
    "sample_data['answer value'].to_csv('/content/drive/MyDrive/programmers/data/ensemble.csv')"
   ]
  }
 ],
 "metadata": {
  "accelerator": "GPU",
  "colab": {
   "collapsed_sections": [],
   "name": "ensemble.ipynb",
   "provenance": []
  },
  "kernelspec": {
   "display_name": "Python 3",
   "language": "python",
   "name": "python3"
  },
  "language_info": {
   "codemirror_mode": {
    "name": "ipython",
    "version": 3
   },
   "file_extension": ".py",
   "mimetype": "text/x-python",
   "name": "python",
   "nbconvert_exporter": "python",
   "pygments_lexer": "ipython3",
   "version": "3.8.5"
  }
 },
 "nbformat": 4,
 "nbformat_minor": 5
}
